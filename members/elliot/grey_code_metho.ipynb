{
 "cells": [
  {
   "cell_type": "code",
   "execution_count": 1,
   "metadata": {},
   "outputs": [],
   "source": [
    "import numpy as np"
   ]
  },
  {
   "cell_type": "code",
   "execution_count": 76,
   "metadata": {},
   "outputs": [],
   "source": [
    "def dec_to_bin(x,n):\n",
    "    \"\"\"\n",
    "    x - decimal number to convert to binary\n",
    "    n - number of qubits\n",
    "    \"\"\"\n",
    "\n",
    "    dec_string = bin(x).replace(\"0b\",\"\")[::-1]\n",
    "    x_bin = np.zeros(n,dtype='int')\n",
    "\n",
    "    j = n-1\n",
    "    for i in dec_string:\n",
    "        x_bin[j] = int(i)\n",
    "        j = j -1\n",
    "\n",
    "    return x_bin\n",
    "\n",
    "def get_grey_code(indx1,indx2,n):\n",
    "    \n",
    "    \"\"\"\n",
    "    Return grey code connecting indx1 to indx2 for an n qubit unitary\n",
    "    indx1 - first index\n",
    "    indx2 - second index, indx2 > indx1\n",
    "    n - number of qubits\n",
    "    \"\"\"\n",
    "    \n",
    "    b1 = dec_to_bin(indx1,n)\n",
    "    b2 = dec_to_bin(indx2,n)\n",
    "    s = np.copy(b1)\n",
    "    \n",
    "    code = np.array([b1])\n",
    "\n",
    "    for i in reversed(range(n)):\n",
    "\n",
    "        if s[i] != b2[i]:\n",
    "            \n",
    "            s[i] =  (s[i] + 1)%2\n",
    "            code = np.append(code,[s],axis=0)\n",
    "        \n",
    "    return code"
   ]
  }
 ],
 "metadata": {
  "kernelspec": {
   "display_name": "Python 3",
   "language": "python",
   "name": "python3"
  },
  "language_info": {
   "codemirror_mode": {
    "name": "ipython",
    "version": 3
   },
   "file_extension": ".py",
   "mimetype": "text/x-python",
   "name": "python",
   "nbconvert_exporter": "python",
   "pygments_lexer": "ipython3",
   "version": "3.7.0"
  }
 },
 "nbformat": 4,
 "nbformat_minor": 2
}
