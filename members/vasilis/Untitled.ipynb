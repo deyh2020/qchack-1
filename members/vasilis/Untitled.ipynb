{
 "cells": [
  {
   "cell_type": "code",
   "execution_count": 1,
   "id": "enhanced-insight",
   "metadata": {},
   "outputs": [],
   "source": [
    "import cirq\n",
    "from cirq.circuits import Circuit\n",
    "import numpy as np\n",
    "from scipy.stats import unitary_group\n",
    "from cirq.sim import Simulator"
   ]
  },
  {
   "cell_type": "code",
   "execution_count": 2,
   "id": "secret-cuisine",
   "metadata": {},
   "outputs": [],
   "source": [
    "sim = Simulator()"
   ]
  },
  {
   "cell_type": "code",
   "execution_count": null,
   "id": "special-smoke",
   "metadata": {},
   "outputs": [],
   "source": [
    "from scipy.stats import unitary_group\n",
    "num_qubits = 8\n",
    "x = unitary_group.rvs(2**num_qubits)"
   ]
  },
  {
   "cell_type": "code",
   "execution_count": 10,
   "id": "ordinary-pressure",
   "metadata": {},
   "outputs": [],
   "source": [
    "num_qubits = 8\n",
    "qubits = cirq.LineQubit.range(num_qubits)\n",
    "x = unitary_group.rvs(2**num_qubits)"
   ]
  },
  {
   "cell_type": "code",
   "execution_count": 19,
   "id": "remarkable-discretion",
   "metadata": {},
   "outputs": [],
   "source": [
    "circuit = Circuit(\n",
    "    [cirq.MatrixGate(x).on(*qubits),\n",
    "     cirq.measure_each(*qubits)\n",
    "    ]\n",
    ")"
   ]
  },
  {
   "cell_type": "code",
   "execution_count": 17,
   "id": "funded-quantum",
   "metadata": {},
   "outputs": [],
   "source": [
    "res = sim.simulate(circuit)"
   ]
  },
  {
   "cell_type": "code",
   "execution_count": 20,
   "id": "passive-northern",
   "metadata": {},
   "outputs": [],
   "source": [
    "res = sim.run(circuit, repetitions=10)"
   ]
  },
  {
   "cell_type": "code",
   "execution_count": 22,
   "id": "built-imaging",
   "metadata": {},
   "outputs": [
    {
     "name": "stdout",
     "output_type": "stream",
     "text": [
      "20 ns\n"
     ]
    }
   ],
   "source": [
    "brissy = cirq.google.Bristlecone\n",
    "op = cirq.X.on(cirq.GridQubit(5, 5))\n"
   ]
  },
  {
   "cell_type": "code",
   "execution_count": 30,
   "id": "split-stanley",
   "metadata": {},
   "outputs": [
    {
     "name": "stdout",
     "output_type": "stream",
     "text": [
      "(5, 5): ───@───\n",
      "           │\n",
      "(5, 6): ───@───\n",
      "\n",
      "(6, 6): ───@───\n",
      "           │\n",
      "(6, 8): ───@───\n",
      "error, as expected: \n",
      "Non-local interaction: cirq.CZ(cirq.GridQubit(6, 6), cirq.GridQubit(6, 8)).\n"
     ]
    }
   ],
   "source": [
    "\"\"\"Validate operations on a device.\"\"\"\n",
    "# Get adjacent qubits on the Bristlecone device.\n",
    "q55 = cirq.GridQubit(5, 5)\n",
    "q56 = cirq.GridQubit(5, 6)\n",
    "q66 = cirq.GridQubit(6, 6)\n",
    "q68 = cirq.GridQubit(6, 7)\n",
    "\n",
    "# Define operations on adjacent qubits.\n",
    "ops = [cirq.CZ(q55, q56), cirq.CZ(q66, q67)]\n",
    "circuit = cirq.Circuit(ops)\n",
    "print(circuit)\n",
    "\n",
    "try: \n",
    "  cirq.google.Bristlecone.validate_circuit(circuit)\n",
    "except ValueError as ex:\n",
    "  print(f\"error, as expected: \\n{ex}\")"
   ]
  },
  {
   "cell_type": "code",
   "execution_count": 42,
   "id": "amazing-private",
   "metadata": {},
   "outputs": [],
   "source": [
    "a = cirq.GridQubit(6, 6)\n",
    "b = cirq.GridQubit(6, 8)\n",
    "ancilla = cirq.GridQubit(6, 7)"
   ]
  },
  {
   "cell_type": "code",
   "execution_count": null,
   "id": "interested-advancement",
   "metadata": {},
   "outputs": [],
   "source": [
    "cirq.SWAP(a, ancilla)"
   ]
  },
  {
   "cell_type": "code",
   "execution_count": 45,
   "id": "humanitarian-mother",
   "metadata": {},
   "outputs": [
    {
     "name": "stdout",
     "output_type": "stream",
     "text": [
      "(6, 6): ───S^-1───Y^-0.5───@───S^-1───Y^0.5───X^0.5───@───S^-1───X^-0.5───@───S^-1───Z───────\n",
      "                           │                          │                   │\n",
      "(6, 7): ───Z──────Y^-0.5───@───S^-1───Y^0.5───X^0.5───@───S^-1───X^-0.5───@───S^-1───S───@───\n",
      "                                                                                         │\n",
      "(6, 8): ─────────────────────────────────────────────────────────────────────────────────@───\n"
     ]
    }
   ],
   "source": [
    "ops = [cirq.SWAP(a, ancilla), cirq.CZ(ancilla, b), cirq.SWAP(a, ancilla)]\n",
    "\n",
    "# Create a circuit on the Bristlecone device.\n",
    "circuit = cirq.Circuit(device=cirq.google.Bristlecone)\n",
    "\n",
    "circuit.append(ops)\n",
    "print(circuit)"
   ]
  },
  {
   "cell_type": "code",
   "execution_count": 60,
   "id": "soviet-services",
   "metadata": {},
   "outputs": [
    {
     "data": {
      "text/plain": [
       "measurements: (no measurements)\n",
       "output vector: |101⟩"
      ]
     },
     "execution_count": 60,
     "metadata": {},
     "output_type": "execute_result"
    }
   ],
   "source": [
    "circuit = Circuit([cirq.X(a), cirq.SWAP(a, ancilla), cirq.CNOT(ancilla, b), cirq.SWAP(a, ancilla)])\n",
    "res = sim.simulate(circuit)\n",
    "res"
   ]
  },
  {
   "cell_type": "code",
   "execution_count": 61,
   "id": "entitled-longer",
   "metadata": {},
   "outputs": [
    {
     "data": {
      "text/plain": [
       "measurements: (no measurements)\n",
       "output vector: |10⟩"
      ]
     },
     "execution_count": 61,
     "metadata": {},
     "output_type": "execute_result"
    }
   ],
   "source": [
    "circuit = Circuit([cirq.X(a), cirq.I(ancilla)])\n",
    "res = sim.simulate(circuit)\n",
    "res"
   ]
  },
  {
   "cell_type": "code",
   "execution_count": 63,
   "id": "optional-parking",
   "metadata": {},
   "outputs": [
    {
     "data": {
      "text/plain": [
       "measurements: (no measurements)\n",
       "output vector: |01⟩"
      ]
     },
     "execution_count": 63,
     "metadata": {},
     "output_type": "execute_result"
    }
   ],
   "source": [
    "circuit = Circuit([cirq.X(a), cirq.SWAP(a, b)])\n",
    "res = sim.simulate(circuit)\n",
    "res"
   ]
  },
  {
   "cell_type": "code",
   "execution_count": 64,
   "id": "pacific-baking",
   "metadata": {},
   "outputs": [
    {
     "data": {
      "text/plain": [
       "measurements: (no measurements)\n",
       "output vector: |10⟩"
      ]
     },
     "execution_count": 64,
     "metadata": {},
     "output_type": "execute_result"
    }
   ],
   "source": [
    "circuit = Circuit([cirq.X(a), cirq.I(b)])\n",
    "res = sim.simulate(circuit)\n",
    "res"
   ]
  },
  {
   "cell_type": "code",
   "execution_count": 107,
   "id": "academic-thumbnail",
   "metadata": {},
   "outputs": [
    {
     "data": {
      "text/plain": [
       "measurements: (no measurements)\n",
       "output vector: |0010⟩"
      ]
     },
     "execution_count": 107,
     "metadata": {},
     "output_type": "execute_result"
    }
   ],
   "source": [
    "qs = [cirq.GridQubit(0,1), cirq.GridQubit(1,1), cirq.GridQubit(2,1), cirq.GridQubit(2,2)] \n",
    "circuit = cirq.Circuit([cirq.X.on_each(qs[2]), cirq.I.on_each(qs[1], qs[0], qs[3])])\n",
    "res = sim.simulate(circuit)\n",
    "res\n",
    "\n",
    "circuit = cirq.Circuit([ \n",
    "    cirq.X.on(qs[2]), \n",
    "    cirq.ControlledGate(\n",
    "        sub_gate=cirq.X,\n",
    "        num_controls=3, \n",
    "        control_values = [0, 0, 1]\n",
    "    ).on(*[qs[0], qs[3], qs[2], qs[1]])\n",
    "])\n",
    "res = sim.simulate(circuit)\n",
    "res"
   ]
  },
  {
   "cell_type": "code",
   "execution_count": null,
   "id": "shaped-upgrade",
   "metadata": {},
   "outputs": [],
   "source": []
  }
 ],
 "metadata": {
  "kernelspec": {
   "display_name": "Python 3",
   "language": "python",
   "name": "python3"
  },
  "language_info": {
   "codemirror_mode": {
    "name": "ipython",
    "version": 3
   },
   "file_extension": ".py",
   "mimetype": "text/x-python",
   "name": "python",
   "nbconvert_exporter": "python",
   "pygments_lexer": "ipython3",
   "version": "3.7.7"
  }
 },
 "nbformat": 4,
 "nbformat_minor": 5
}
