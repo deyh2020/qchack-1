{
 "cells": [
  {
   "cell_type": "code",
   "execution_count": 2,
   "metadata": {},
   "outputs": [],
   "source": [
    "import cirq\n",
    "from cirq.circuits import Circuit\n",
    "import numpy as np\n",
    "from scipy.stats import unitary_group\n",
    "from cirq.sim import Simulator\n",
    "sim = Simulator()"
   ]
  },
  {
   "cell_type": "code",
   "execution_count": 5,
   "metadata": {},
   "outputs": [],
   "source": [
    "class FCGate:\n",
    "\n",
    "    def __init__(self, control_0, control_1, target, sub_gate):\n",
    "        \n",
    "        self.control_0 = control_0\n",
    "        self.control_1 = control_1\n",
    "        self.target = target\n",
    "        self.sub_gate = sub_gate\n",
    "                \n",
    "        \n",
    "    def build_gate(self, qubits):\n",
    "        \n",
    "        # Create Fully Controlled Gate\n",
    "        num_controls = len(self.control_0) + len(self.control_1)\n",
    "        control_values = [0] * len(self.control_0) + [1] * len(self.control_1) \n",
    "        fc_gate = cirq.ControlledGate(self.sub_gate, num_controls, control_values)\n",
    "\n",
    "        # Create ordered qubit list for cirq.ControlledGate [c0,...,c1,...,target]\n",
    "        control_0_qubits = [qubits[i] for i in self.control_0]\n",
    "        control_1_qubits = [qubits[i] for i in self.control_1]\n",
    "        target_qubit = [qubits[self.target]]\n",
    "        ordered_qubits = control_0_qubits + control_1_qubits + target_qubit\n",
    "\n",
    "        \n",
    "        return fc_gate.on(*ordered_qubits) "
   ]
  },
  {
   "cell_type": "code",
   "execution_count": 6,
   "metadata": {},
   "outputs": [],
   "source": [
    "def state1_to_state2_gate(arr1, arr2, sub_gate):\n",
    "    N = len(arr1)\n",
    "    \n",
    "    control_0 = []\n",
    "    control_1 = []\n",
    "    target = None\n",
    "    for i in range(N):\n",
    "        \n",
    "        # if ith qubits have same state -> control qubits\n",
    "        if arr1[i] == arr2[i]:\n",
    "            if arr1[i] == 0:\n",
    "                control_0.append(i)\n",
    "            else:\n",
    "                control_1.append(i)\n",
    "        else:\n",
    "            target = i\n",
    "        \n",
    "    return FCGate(contol_0, control_1, target, sub_gate)"
   ]
  },
  {
   "cell_type": "markdown",
   "metadata": {},
   "source": [
    "# Example"
   ]
  },
  {
   "cell_type": "markdown",
   "metadata": {},
   "source": [
    "### Before"
   ]
  },
  {
   "cell_type": "code",
   "execution_count": 7,
   "metadata": {},
   "outputs": [
    {
     "data": {
      "text/plain": [
       "'|0010⟩'"
      ]
     },
     "execution_count": 7,
     "metadata": {},
     "output_type": "execute_result"
    }
   ],
   "source": [
    "qs = [cirq.GridQubit(0,1), cirq.GridQubit(1,1), cirq.GridQubit(2,1), cirq.GridQubit(2,2)] \n",
    "\n",
    "circuit = cirq.Circuit([cirq.X.on_each(qs[2]), cirq.I.on_each(qs[1], qs[0], qs[3])])\n",
    "res = sim.simulate(circuit)\n",
    "res.dirac_notation()"
   ]
  },
  {
   "cell_type": "markdown",
   "metadata": {},
   "source": [
    "### After"
   ]
  },
  {
   "cell_type": "code",
   "execution_count": 8,
   "metadata": {},
   "outputs": [
    {
     "data": {
      "text/plain": [
       "'|0110⟩'"
      ]
     },
     "execution_count": 8,
     "metadata": {},
     "output_type": "execute_result"
    }
   ],
   "source": [
    "# Instantiate an FCgate\n",
    "control_0 = [0, 3]\n",
    "control_1 = [2]\n",
    "target = 1 \n",
    "sub_gate = cirq.X\n",
    "fc_gate = FCGate(control_0, control_1, target, sub_gate)\n",
    "\n",
    "circuit = cirq.Circuit([ \n",
    "    cirq.X.on(qs[2]), \n",
    "    fc_gate.build_gate(qs)\n",
    "])\n",
    "res = sim.simulate(circuit)\n",
    "res.dirac_notation()"
   ]
  },
  {
   "cell_type": "code",
   "execution_count": null,
   "metadata": {},
   "outputs": [],
   "source": []
  }
 ],
 "metadata": {
  "kernelspec": {
   "display_name": "Python 3",
   "language": "python",
   "name": "python3"
  },
  "language_info": {
   "codemirror_mode": {
    "name": "ipython",
    "version": 3
   },
   "file_extension": ".py",
   "mimetype": "text/x-python",
   "name": "python",
   "nbconvert_exporter": "python",
   "pygments_lexer": "ipython3",
   "version": "3.7.7"
  }
 },
 "nbformat": 4,
 "nbformat_minor": 4
}
