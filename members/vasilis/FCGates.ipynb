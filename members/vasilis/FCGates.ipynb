{
 "cells": [
  {
   "cell_type": "code",
   "execution_count": 2,
   "metadata": {},
   "outputs": [],
   "source": [
    "import cirq\n",
    "from cirq.circuits import Circuit\n",
    "import numpy as np\n",
    "from scipy.stats import unitary_group\n",
    "from cirq.sim import Simulator\n",
    "sim = Simulator()"
   ]
  },
  {
   "cell_type": "markdown",
   "metadata": {},
   "source": [
    "# Step 1: Decompose Unitary into 2-level Matrices"
   ]
  },
  {
   "cell_type": "code",
   "execution_count": 30,
   "metadata": {},
   "outputs": [
    {
     "data": {
      "text/html": [
       "<script>\n",
       "            function code_toggle_1721111903955025783() {$('div.cell.code_cell.rendered.selected').find('div.input').toggle(); }\n",
       "            \n",
       "        </script>\n",
       "        <a href=\"javascript:code_toggle_1721111903955025783()\">Code show/hide</a>\n",
       "    "
      ],
      "text/plain": [
       "<IPython.core.display.HTML object>"
      ]
     },
     "execution_count": 30,
     "metadata": {},
     "output_type": "execute_result"
    }
   ],
   "source": [
    "# useful matrices\n",
    "Identity_22 = np.eye(2, dtype=np.complex128)\n",
    "Pauli_x = np.array([[0, 1], [1, 0]], dtype=np.complex128)\n",
    "\n",
    "# threshold\n",
    "thr = 10**-9\n",
    "\n",
    "def is_unitary(A):\n",
    "    n = A.shape[0]\n",
    "    if (A.shape != (n, n)):\n",
    "        raise ValueError(\"Matrix is not square.\")\n",
    "    A = np.array(A)\n",
    "    return np.allclose(np.eye(n), A @ A.conj().T)\n",
    "\n",
    "\n",
    "def is_identity(A):\n",
    "    n = A.shape[0]\n",
    "    if (A.shape != (n, n)):\n",
    "        raise ValueError(\"Matrix is not square.\")\n",
    "    return np.allclose(A, np.eye(n))\n",
    "\n",
    "\n",
    "def elimination_matrix(a,b):\n",
    "    # a, b allowed to be complex\n",
    "    \n",
    "    # impose theta real + positive {eq.10}\n",
    "    theta = np.arctan(abs(b/a))\n",
    "    \n",
    "    # lambda is the negative arg() of a\n",
    "    lamda = - np.angle(a)\n",
    "    \n",
    "    # {eq.12}\n",
    "    mu = np.pi + np.angle(b)\n",
    "    \n",
    "    # {eq.7}\n",
    "    U_special = np.array([ [np.exp(1j*lamda) * np.cos(theta), np.exp(1j*mu) * np.sin(theta)],\n",
    "                           [-np.exp(-1j*mu) * np.sin(theta), np.exp(-1j*lamda) * np.cos(theta)] ])\n",
    "    \n",
    "    return U_special\n",
    "\n",
    "\n",
    "def two_level_decomp(A):\n",
    "    \n",
    "    \"\"\"\n",
    "    decomp - list of 2x2 unitaries that decompose A. To reconstruct A, the list of unitaries\n",
    "             in decomp must be reversed\n",
    "             \n",
    "    indices - list of non-trivial rows on which matrices in decomp act. For example, [1,3] indicates\n",
    "              that row 1 and 3 are non-trivial; all other elements are 1.\n",
    "    \"\"\"\n",
    "    \n",
    "    n = A.shape[0]\n",
    "    decomp = []\n",
    "    indices = []\n",
    "    A_c = np.copy(A)\n",
    "\n",
    "    for i in range(n-2):\n",
    "        for j in range(n-1, i, -1):\n",
    "\n",
    "            a = A_c[i,j-1]\n",
    "            b = A_c[i,j]\n",
    "\n",
    "            # --- need checks --- \n",
    "            # if A[i,j] = 0, nothing to do! Except in last row - need to check diagonal element is 1 \n",
    "            if abs(A_c[i,j]) < thr:\n",
    "                U_22 = Identity_22\n",
    "\n",
    "                if j == i+1:\n",
    "                    U_22 = np.array([[1 / a, 0], [0, a]])\n",
    "\n",
    "            # if A[i,j-1] = 0, need to swap columns - again checking last row to ensure diagonal element is 1 \n",
    "            elif abs(A_c[i,j-1]) < thr:\n",
    "                U_22 = Pauli_x\n",
    "\n",
    "                if j == i+1:\n",
    "                    U_22 = np.array([[1 / b, 0], [0, b]])\n",
    "\n",
    "            # Special unitary matrix\n",
    "            else: \n",
    "                U_22 = elimination_matrix(a,b)\n",
    "\n",
    "            # ----- U_22 found -----\n",
    "\n",
    "            # multiply submatrix of A with U_22\n",
    "            A_c[:,(j-1,j)] = A_c[:,(j-1,j)] @ U_22\n",
    "\n",
    "            # If not the identity matrix - represents a gate! So should store\n",
    "            if not is_identity(U_22):\n",
    "                decomp.append(U_22.conj().T)\n",
    "                indices.append(np.array([j-1,j]))\n",
    "\n",
    "\n",
    "        # check for diagonal element equal to 1\n",
    "        assert np.allclose(A_c[i,i],1.0)\n",
    "    \n",
    "    # lower right hand 2x2 matrix remaining after decomp\n",
    "    lower_rh_matrix = A_c[n-2:n, n-2:n]\n",
    "    \n",
    "    # if not equal to I - is a non trivial gate\n",
    "    if not is_identity(lower_rh_matrix):\n",
    "        decomp.append(lower_rh_matrix)\n",
    "        indices.append(np.array([n-2,n-1]))\n",
    "\n",
    "    return decomp, indices\n",
    "\n",
    "\n",
    "def gray_method(A):\n",
    "    \n",
    "    n = A.shape[0]\n",
    "    M = np.copy(A)\n",
    "\n",
    "    # using bitwise_xor find Gray permutations\n",
    "    permutations = []\n",
    "    for i in range(n):\n",
    "        permutations.append(i ^ (i // 2))\n",
    "        \n",
    "    # \n",
    "    M[:,:] = M[:,permutations]\n",
    "    M[:,:] = M[permutations,:]\n",
    "    \n",
    "    decomp, indices = two_level_decomp(M)\n",
    "    new_decomp = []\n",
    "    new_ind = []\n",
    "\n",
    "    for i in range(len(indices)):\n",
    "        \n",
    "        t = np.take(permutations, indices[i])\n",
    "        if t[0]>t[1]:\n",
    "            new_decomp.append(decomp[i].T)\n",
    "            new_ind.append(np.sort(t))\n",
    "\n",
    "        else:\n",
    "            new_decomp.append(decomp[i])\n",
    "            new_ind.append(t)\n",
    "            \n",
    "    return new_decomp, new_ind\n",
    "\n",
    "def hide_toggle(for_next=False):\n",
    "    import random\n",
    "    from IPython.display import HTML\n",
    "    this_cell = \"\"\"$('div.cell.code_cell.rendered.selected')\"\"\" ; next_cell = this_cell + '.next()';\n",
    "    toggle_text = 'Code show/hide'  # text shown on toggle link\n",
    "    target_cell = this_cell ;  js_hide_current = '' \n",
    "\n",
    "    if for_next:\n",
    "        target_cell = next_cell; toggle_text += ' next cell';\n",
    "        js_hide_current = this_cell + '.find(\"div.input\").hide();'\n",
    "    js_f_name = 'code_toggle_{}'.format(str(random.randint(1,2**64)))\n",
    "\n",
    "    html = \"\"\"<script>\n",
    "            function {f_name}() {{{cell_selector}.find('div.input').toggle(); }}\n",
    "            {js_hide_current}\n",
    "        </script>\n",
    "        <a href=\"javascript:{f_name}()\">{toggle_text}</a>\n",
    "    \"\"\".format(f_name=js_f_name,cell_selector=target_cell,js_hide_current=js_hide_current, toggle_text=toggle_text )\n",
    "    return HTML(html)\n",
    "\n",
    "        \n",
    "hide_toggle()"
   ]
  },
  {
   "cell_type": "code",
   "execution_count": 106,
   "metadata": {},
   "outputs": [],
   "source": [
    "# Example\n",
    "num_qubits = 4\n",
    "qubits =[cirq.GridQubit(0,i) for i in range(num_qubits)]\n",
    "\n",
    "A = unitary_group.rvs(2**num_qubits)\n",
    "\n",
    "matrices, indices_list = two_level_decomp(A)\n",
    "\n",
    "# TODO: apply recomposition test"
   ]
  },
  {
   "cell_type": "markdown",
   "metadata": {},
   "source": [
    "# Step 2a: Convert indices into sequence of states (Gray's method)"
   ]
  },
  {
   "cell_type": "code",
   "execution_count": 99,
   "metadata": {},
   "outputs": [
    {
     "data": {
      "text/html": [
       "<script>\n",
       "            function code_toggle_1452109199548875666() {$('div.cell.code_cell.rendered.selected').find('div.input').toggle(); }\n",
       "            \n",
       "        </script>\n",
       "        <a href=\"javascript:code_toggle_1452109199548875666()\">Code show/hide</a>\n",
       "    "
      ],
      "text/plain": [
       "<IPython.core.display.HTML object>"
      ]
     },
     "execution_count": 99,
     "metadata": {},
     "output_type": "execute_result"
    }
   ],
   "source": [
    "def dec_to_bin(x, num_qubits):\n",
    "    \"\"\"\n",
    "    x - decimal number to convert to binary\n",
    "    num_qubits - number of qubits\n",
    "    \"\"\"\n",
    "\n",
    "    dec_string = bin(x).replace(\"0b\",\"\")[::-1]\n",
    "    x_bin = np.zeros(num_qubits, dtype='int')\n",
    "\n",
    "    j = num_qubits - 1\n",
    "    for i in dec_string:\n",
    "        x_bin[j] = int(i)\n",
    "        j = j -1\n",
    "\n",
    "    return x_bin\n",
    "\n",
    "def create_gray_arrs(indices, num_qubits):\n",
    "    \n",
    "    \"\"\"\n",
    "    Return grey code connecting indx1 to indx2 for an n qubit unitary\n",
    "    indices\n",
    "    num_qubits - number of qubits\n",
    "    \"\"\"\n",
    "    \n",
    "    b1 = dec_to_bin(indices[0], num_qubits)\n",
    "    b2 = dec_to_bin(indices[1], num_qubits)\n",
    "    s = np.copy(b1)\n",
    "    \n",
    "    code = np.array([b1])\n",
    "\n",
    "    for i in reversed(range(num_qubits)):\n",
    "\n",
    "        if s[i] != b2[i]:\n",
    "            \n",
    "            s[i] =  (s[i] + 1)%2\n",
    "            code = np.append(code,[s],axis=0)\n",
    "        \n",
    "    return code\n",
    "\n",
    "hide_toggle()"
   ]
  },
  {
   "cell_type": "code",
   "execution_count": 108,
   "metadata": {},
   "outputs": [
    {
     "data": {
      "text/plain": [
       "array([13, 14])"
      ]
     },
     "execution_count": 108,
     "metadata": {},
     "output_type": "execute_result"
    }
   ],
   "source": [
    "indices_list[1]"
   ]
  },
  {
   "cell_type": "code",
   "execution_count": null,
   "metadata": {},
   "outputs": [],
   "source": [
    "13 =  1101 -> Seq Gate - > 14 = 1110\n"
   ]
  },
  {
   "cell_type": "code",
   "execution_count": 107,
   "metadata": {},
   "outputs": [
    {
     "data": {
      "text/plain": [
       "array([[1, 1, 0, 1],\n",
       "       [1, 1, 0, 0],\n",
       "       [1, 1, 1, 0]])"
      ]
     },
     "execution_count": 107,
     "metadata": {},
     "output_type": "execute_result"
    }
   ],
   "source": [
    "create_gray_arrs(indices_list[1], num_qubits)"
   ]
  },
  {
   "cell_type": "code",
   "execution_count": 100,
   "metadata": {},
   "outputs": [
    {
     "data": {
      "text/plain": [
       "{2, 3, 4, 5}"
      ]
     },
     "execution_count": 100,
     "metadata": {},
     "output_type": "execute_result"
    }
   ],
   "source": [
    "# example\n",
    "set([len(create_gray_arrs(i, num_qubits)) for i in indices_list])"
   ]
  },
  {
   "cell_type": "markdown",
   "metadata": {},
   "source": [
    "# Step 2b: Convert two-level matrices to FCGates"
   ]
  },
  {
   "cell_type": "code",
   "execution_count": 101,
   "metadata": {},
   "outputs": [
    {
     "data": {
      "text/html": [
       "<script>\n",
       "            function code_toggle_6918064265905435105() {$('div.cell.code_cell.rendered.selected').find('div.input').toggle(); }\n",
       "            \n",
       "        </script>\n",
       "        <a href=\"javascript:code_toggle_6918064265905435105()\">Code show/hide</a>\n",
       "    "
      ],
      "text/plain": [
       "<IPython.core.display.HTML object>"
      ]
     },
     "execution_count": 101,
     "metadata": {},
     "output_type": "execute_result"
    }
   ],
   "source": [
    "class FCGate:\n",
    "\n",
    "    def __init__(self, control_0, control_1, target, sub_gate):\n",
    "        \n",
    "        self.control_0 = control_0\n",
    "        self.control_1 = control_1\n",
    "        self.target = target\n",
    "        self.sub_gate = sub_gate\n",
    "                \n",
    "        \n",
    "    def build_gate(self, qubits):\n",
    "        \n",
    "        # Create Fully Controlled Gate\n",
    "        num_controls = len(self.control_0) + len(self.control_1)\n",
    "        control_values = [0] * len(self.control_0) + [1] * len(self.control_1) \n",
    "        fc_gate = cirq.ControlledGate(self.sub_gate, num_controls, control_values)\n",
    "\n",
    "        # Create ordered qubit list for cirq.ControlledGate: [c0,...,c1,...,target]\n",
    "        control_0_qubits = [qubits[i] for i in self.control_0]\n",
    "        control_1_qubits = [qubits[i] for i in self.control_1]\n",
    "        target_qubit = [qubits[self.target]]\n",
    "        ordered_qubits = control_0_qubits + control_1_qubits + target_qubit\n",
    "\n",
    "        \n",
    "        return fc_gate.on(*ordered_qubits) \n",
    "    \n",
    "def state1_to_state2_gate(arr1, arr2, sub_gate):\n",
    "    N = len(arr1)\n",
    "    \n",
    "    control_0 = []\n",
    "    control_1 = []\n",
    "    target = None\n",
    "    for i in range(N):\n",
    "        \n",
    "        # if ith qubits have same state -> control qubits\n",
    "        if arr1[i] == arr2[i]:\n",
    "            if arr1[i] == 0:\n",
    "                control_0.append(i)\n",
    "            else:\n",
    "                control_1.append(i)\n",
    "        else:\n",
    "            target = i\n",
    "        \n",
    "    return FCGate(control_0, control_1, target, sub_gate)\n",
    "\n",
    "def sub_gate_from_two_level_matrix(matrix, atol=0):\n",
    "\n",
    "    \"\"\"\n",
    "    Return a Phase XZ decomposition of a 2x2 unitary matrix\n",
    "    matrix - 2x2 unitary matrix\n",
    "    atol - limit on the amount of error introduced by the construction.\n",
    "    \"\"\"\n",
    "\n",
    "    sub_gate = cirq.optimizers.single_qubit_matrix_to_phxz(matrix, atol)\n",
    "\n",
    "    if sub_gate != None:\n",
    "        return sub_gate\n",
    "\n",
    "    else:\n",
    "        #TODO: Decide how to handle identity case\n",
    "        print(\"Identity\")\n",
    "        \n",
    "def create_gates_from_gray(matrix, indices, num_qubits):\n",
    "    \n",
    "    gray_arrs = create_gray_arrs(indices, num_qubits)\n",
    "    N = len(gray_arrs)\n",
    "    \n",
    "    # Pre-ops: Apply FC_X gates   \n",
    "    pre_gates = [state1_to_state2_gate(gray_arrs[i], gray_arrs[i+1], cirq.X) \n",
    "                 for i in range(N-2)]\n",
    "\n",
    "    # Main op: Apply FC_U gate\n",
    "    sub_gate = sub_gate_from_two_level_matrix(matrix)\n",
    "    main_gate = [state1_to_state2_gate(gray_arrs[N-2], gray_arrs[N-1], sub_gate)]\n",
    "\n",
    "    # Post-ops: Reverse pre-ops\n",
    "    post_gates = list(gate for gate in pre_gates[::-1])\n",
    "\n",
    "    return pre_gates + main_gate + post_gates\n",
    "\n",
    "hide_toggle()"
   ]
  },
  {
   "cell_type": "code",
   "execution_count": 116,
   "metadata": {},
   "outputs": [
    {
     "data": {
      "text/html": [
       "<pre style=\"overflow: auto; white-space: pre;\">(0, 0): ───@─────@──────────────────────────────@─────\n",
       "           │     │                              │\n",
       "(0, 1): ───@─────@──────────────────────────────@─────\n",
       "           │     │                              │\n",
       "(0, 2): ───(0)───PhXZ(a=-0.881,x=0.7,z=0.762)───(0)───\n",
       "           │     │                              │\n",
       "(0, 3): ───X─────(0)────────────────────────────X─────</pre>"
      ],
      "text/plain": [
       "(0, 0): ───@─────@──────────────────────────────@─────\n",
       "           │     │                              │\n",
       "(0, 1): ───@─────@──────────────────────────────@─────\n",
       "           │     │                              │\n",
       "(0, 2): ───(0)───PhXZ(a=-0.881,x=0.7,z=0.762)───(0)───\n",
       "           │     │                              │\n",
       "(0, 3): ───X─────(0)────────────────────────────X─────"
      ]
     },
     "execution_count": 116,
     "metadata": {},
     "output_type": "execute_result"
    }
   ],
   "source": [
    "# Example\n",
    "ops = [g.build_gate(qubits) for g in create_gates_from_gray(matrices[1], indices_list[1], num_qubits)]\n",
    "circuit = Circuit(ops)\n",
    "circuit"
   ]
  },
  {
   "cell_type": "markdown",
   "metadata": {},
   "source": [
    "# Step 3: Create list of all FCGates"
   ]
  },
  {
   "cell_type": "code",
   "execution_count": null,
   "metadata": {},
   "outputs": [],
   "source": [
    "def "
   ]
  },
  {
   "cell_type": "markdown",
   "metadata": {},
   "source": [
    "# Example"
   ]
  },
  {
   "cell_type": "markdown",
   "metadata": {},
   "source": [
    "### Before"
   ]
  },
  {
   "cell_type": "code",
   "execution_count": 7,
   "metadata": {},
   "outputs": [
    {
     "data": {
      "text/plain": [
       "'|0010⟩'"
      ]
     },
     "execution_count": 7,
     "metadata": {},
     "output_type": "execute_result"
    }
   ],
   "source": [
    "qs = [cirq.GridQubit(0,1), cirq.GridQubit(1,1), cirq.GridQubit(2,1), cirq.GridQubit(2,2)] \n",
    "\n",
    "circuit = cirq.Circuit([cirq.X.on_each(qs[2]), cirq.I.on_each(qs[1], qs[0], qs[3])])\n",
    "res = sim.simulate(circuit)\n",
    "res.dirac_notation()"
   ]
  },
  {
   "cell_type": "markdown",
   "metadata": {},
   "source": [
    "### After"
   ]
  },
  {
   "cell_type": "code",
   "execution_count": 8,
   "metadata": {},
   "outputs": [
    {
     "data": {
      "text/plain": [
       "'|0110⟩'"
      ]
     },
     "execution_count": 8,
     "metadata": {},
     "output_type": "execute_result"
    }
   ],
   "source": [
    "# Instantiate an FCgate\n",
    "control_0 = [0, 3]\n",
    "control_1 = [2]\n",
    "target = 1 \n",
    "sub_gate = cirq.X\n",
    "fc_gate = FCGate(control_0, control_1, target, sub_gate)\n",
    "\n",
    "circuit = cirq.Circuit([ \n",
    "    cirq.X.on(qs[2]), \n",
    "    fc_gate.build_gate(qs)\n",
    "])\n",
    "res = sim.simulate(circuit)\n",
    "res.dirac_notation()"
   ]
  },
  {
   "cell_type": "code",
   "execution_count": null,
   "metadata": {},
   "outputs": [],
   "source": []
  }
 ],
 "metadata": {
  "kernelspec": {
   "display_name": "Python 3",
   "language": "python",
   "name": "python3"
  },
  "language_info": {
   "codemirror_mode": {
    "name": "ipython",
    "version": 3
   },
   "file_extension": ".py",
   "mimetype": "text/x-python",
   "name": "python",
   "nbconvert_exporter": "python",
   "pygments_lexer": "ipython3",
   "version": "3.7.7"
  }
 },
 "nbformat": 4,
 "nbformat_minor": 4
}
