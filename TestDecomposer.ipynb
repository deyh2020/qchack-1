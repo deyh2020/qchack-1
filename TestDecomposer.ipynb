{
 "cells": [
  {
   "cell_type": "code",
   "execution_count": 6,
   "metadata": {},
   "outputs": [],
   "source": [
    "import numpy as np"
   ]
  },
  {
   "cell_type": "code",
   "execution_count": 7,
   "metadata": {},
   "outputs": [],
   "source": [
    "# useful matrices\n",
    "Identity_22 = np.eye(2, dtype=np.complex128)\n",
    "Pauli_x = np.array([[0, 1], [1, 0]], dtype=np.complex128)\n",
    "\n",
    "# threshold\n",
    "thr = 10**-9"
   ]
  },
  {
   "cell_type": "code",
   "execution_count": 213,
   "metadata": {},
   "outputs": [],
   "source": [
    "def is_unitary(A):\n",
    "    n = A.shape[0]\n",
    "    if (A.shape != (n, n)):\n",
    "        raise ValueError(\"Matrix is not square.\")\n",
    "    A = np.array(A)\n",
    "    return np.allclose(np.eye(n), A @ A.conj().T)\n",
    "\n",
    "\n",
    "def is_identity(A):\n",
    "    n = A.shape[0]\n",
    "    if (A.shape != (n, n)):\n",
    "        raise ValueError(\"Matrix is not square.\")\n",
    "    return np.allclose(A, np.eye(n))\n",
    "\n",
    "\n",
    "def elimination_matrix(a,b):\n",
    "    # a, b allowed to be complex\n",
    "    \n",
    "    # impose theta real + positive {eq.10}\n",
    "    theta = np.arctan(abs(b/a))\n",
    "    \n",
    "    # lambda is the negative arg() of a\n",
    "    lamda = - np.angle(a)\n",
    "    \n",
    "    # {eq.12}\n",
    "    mu = np.pi + np.angle(b)\n",
    "    \n",
    "    # {eq.7}\n",
    "    U_special = np.array([ [np.exp(1j*lamda) * np.cos(theta), np.exp(1j*mu) * np.sin(theta)],\n",
    "                           [-np.exp(-1j*mu) * np.sin(theta), np.exp(-1j*lamda) * np.cos(theta)] ])\n",
    "    \n",
    "    return U_special\n",
    "\n",
    "\n",
    "def two_level_decomp(A):\n",
    "    n = A.shape[0]\n",
    "    decomp = []\n",
    "    indices = []\n",
    "    A_c = np.copy(A)\n",
    "\n",
    "    for i in range(n-2):\n",
    "        for j in range(n-1, i, -1):\n",
    "\n",
    "            a = A_c[i,j-1]\n",
    "            b = A_c[i,j]\n",
    "\n",
    "            # --- need checks --- \n",
    "            # if A[i,j] = 0, nothing to do! Except in last row - need to check diagonal element is 1 \n",
    "            if abs(A_c[i,j]) < thr:\n",
    "                U_22 = Identity_22\n",
    "\n",
    "                if j == i+1:\n",
    "                    U_22 = np.array([[1 / a, 0], [0, a]])\n",
    "\n",
    "            # if A[i,j-1] = 0, need to swap columns - again checking last row to ensure diagonal element is 1 \n",
    "            elif abs(A_c[i,j-1]) < thr:\n",
    "                U_22 = Pauli_x\n",
    "\n",
    "                if j == i+1:\n",
    "                    U_22 = np.array([[1 / b, 0], [0, b]])\n",
    "\n",
    "            # Special unitary matrix\n",
    "            else: \n",
    "                U_22 = elimination_matrix(a,b)\n",
    "\n",
    "            # ----- U_22 found -----\n",
    "\n",
    "            # multiply submatrix of A with U_22\n",
    "            A_c[:,(j-1,j)] = A_c[:,(j-1,j)] @ U_22\n",
    "\n",
    "            # If not the identity matrix - represents a gate! So should store\n",
    "            if not is_identity(U_22):\n",
    "                decomp.append(U_22.conj().T)\n",
    "                indices.append(np.array([j-1,j]))\n",
    "\n",
    "\n",
    "        # check for diagonal element equal to 1\n",
    "        assert np.allclose(A_c[i,i],1.0)\n",
    "    \n",
    "    # lower right hand 2x2 matrix remaining after decomp\n",
    "    lower_rh_matrix = A_c[n-2:n, n-2:n]\n",
    "    \n",
    "    # if not equal to I - is a non trivial gate\n",
    "    if not is_identity(lower_rh_matrix):\n",
    "        decomp.append(lower_rh_matrix)\n",
    "        indices.append(np.array([n-2,n-1]))\n",
    "\n",
    "    return decomp, indices\n",
    "\n",
    "\n",
    "def gray_method(M):\n",
    "    \n",
    "    A = M.copy()\n",
    "    n = A.shape[0]\n",
    "#     A = np.array(A)\n",
    "    # using bitwise_xor find Gray permutations\n",
    "    permutations = []\n",
    "    for i in range(n):\n",
    "        permutations.append(i ^ (i // 2))\n",
    "        \n",
    "    # \n",
    "    A[:,:] = A[:,permutations]\n",
    "    A[:,:] = A[permutations,:]\n",
    "    \n",
    "    decomp, indices = two_level_decomp(A)\n",
    "    new_ind = []\n",
    "    \n",
    "    for pair in indices:\n",
    "        new_ind.append(np.sort(np.take(permutations, pair, 0)))\n",
    "        \n",
    "        \n",
    "    return decomp, new_ind\n",
    "    "
   ]
  },
  {
   "cell_type": "code",
   "execution_count": 14,
   "metadata": {},
   "outputs": [],
   "source": [
    "# test matrix\n",
    "w = np.exp((2j / 3) * np.pi)"
   ]
  },
  {
   "cell_type": "code",
   "execution_count": 27,
   "metadata": {},
   "outputs": [
    {
     "data": {
      "text/plain": [
       "([array([[ 0.70710678-0.00000000e+00j,  0.70710678-8.65956056e-17j],\n",
       "         [-0.70710678-8.65956056e-17j,  0.70710678-0.00000000e+00j]]),\n",
       "  array([[ 0.57735027-0.00000000e+00j,  0.81649658-9.99919924e-17j],\n",
       "         [-0.81649658-9.99919924e-17j,  0.57735027-0.00000000e+00j]]),\n",
       "  array([[-7.07106781e-01+8.65956056e-17j, -5.14325540e-16-7.07106781e-01j],\n",
       "         [ 5.14325540e-16-7.07106781e-01j, -7.07106781e-01-8.65956056e-17j]]),\n",
       "  array([[-6.98727119e-16-1.j,  0.00000000e+00+0.j],\n",
       "         [ 0.00000000e+00+0.j,  0.00000000e+00-1.j]])],\n",
       " [array([1, 2]), array([0, 1]), array([1, 2]), array([2, 3])])"
      ]
     },
     "execution_count": 27,
     "metadata": {},
     "output_type": "execute_result"
    }
   ],
   "source": [
    "A = np.array([[1, 1, 1, 0], \n",
    "                  [1, w, w * w, 0],\n",
    "                  [1, w * w, w, 0], \n",
    "                  [0, 0, 0, -1j*np.sqrt(3)]]) / np.sqrt(3)\n",
    "two_level_decomp(A)"
   ]
  },
  {
   "cell_type": "code",
   "execution_count": 42,
   "metadata": {},
   "outputs": [
    {
     "data": {
      "text/plain": [
       "([array([[0.-0.j, 1.-0.j],\n",
       "         [1.-0.j, 0.-0.j]]),\n",
       "  array([[ 0.70710678-0.00000000e+00j,  0.70710678-8.65956056e-17j],\n",
       "         [-0.70710678-8.65956056e-17j,  0.70710678-0.00000000e+00j]]),\n",
       "  array([[ 0.57735027-0.00000000e+00j,  0.81649658-9.99919924e-17j],\n",
       "         [-0.81649658-9.99919924e-17j,  0.57735027-0.00000000e+00j]]),\n",
       "  array([[-7.07106781e-01+8.65956056e-17j, -5.14325540e-16-7.07106781e-01j],\n",
       "         [ 5.14325540e-16-7.07106781e-01j, -7.07106781e-01-8.65956056e-17j]]),\n",
       "  array([[ 0.00000000e+00+0.j,  0.00000000e+00-1.j],\n",
       "         [-6.98727119e-16-1.j,  0.00000000e+00+0.j]])],\n",
       " [array([3, 2]), array([1, 3]), array([0, 1]), array([1, 3]), array([3, 2])])"
      ]
     },
     "execution_count": 42,
     "metadata": {},
     "output_type": "execute_result"
    }
   ],
   "source": [
    "A = np.array([[1, 1, 1, 0], \n",
    "                  [1, w, w * w, 0],\n",
    "                  [1, w * w, w, 0], \n",
    "                  [0, 0, 0, -1j*np.sqrt(3)]]) / np.sqrt(3)\n",
    "gray_method(A)"
   ]
  },
  {
   "cell_type": "code",
   "execution_count": 93,
   "metadata": {},
   "outputs": [
    {
     "data": {
      "text/plain": [
       "([array([[ 0.75541506+0.51274538j, -0.37381713-0.16340445j],\n",
       "         [ 0.37381713-0.16340445j,  0.75541506-0.51274538j]]),\n",
       "  array([[ 0.20280304-2.04422190e-01j,  0.95764424-1.17277596e-16j],\n",
       "         [-0.95764424-1.17277596e-16j,  0.20280304+2.04422190e-01j]]),\n",
       "  array([[-0.17155617+4.56851000e-01j,  0.87284342-1.06892491e-16j],\n",
       "         [-0.87284342-1.06892491e-16j, -0.17155617-4.56851000e-01j]]),\n",
       "  array([[ 0.58477683-0.00485665j, -0.76493597+0.26997302j],\n",
       "         [ 0.76493597+0.26997302j,  0.58477683+0.00485665j]]),\n",
       "  array([[-0.50507414+3.46480514e-03j,  0.863069  -1.05695469e-16j],\n",
       "         [-0.863069  -1.05695469e-16j, -0.50507414-3.46480514e-03j]]),\n",
       "  array([[ 0.33508076-0.59560499j,  0.19080792-0.70467576j],\n",
       "         [ 0.62162325+0.3828317j , -0.65206134-0.20454932j]])],\n",
       " [array([2, 3]),\n",
       "  array([1, 2]),\n",
       "  array([0, 1]),\n",
       "  array([2, 3]),\n",
       "  array([1, 2]),\n",
       "  array([2, 3])])"
      ]
     },
     "execution_count": 93,
     "metadata": {},
     "output_type": "execute_result"
    }
   ],
   "source": [
    "from scipy.stats import unitary_group\n",
    "nq = 2\n",
    "A = unitary_group.rvs(2**nq)\n",
    "decomp, indices = two_level_decomp(A)\n",
    "decomp, indices"
   ]
  },
  {
   "cell_type": "code",
   "execution_count": null,
   "metadata": {},
   "outputs": [],
   "source": [
    "|1001>  |0011> -> (use these qubits to control the gate, act U on those 1/2 qubits) "
   ]
  },
  {
   "cell_type": "code",
   "execution_count": 214,
   "metadata": {},
   "outputs": [],
   "source": [
    "from functools import reduce\n",
    "def recompose_matrix(matrix_seq, location_seq, num_qubits):\n",
    "    U_list = []\n",
    "    for M, loc in zip(matrix_seq, location_seq):\n",
    "        U = np.eye(2**num_qubits, dtype=np.complex128)\n",
    "        for i,k in enumerate(sorted(loc)):\n",
    "            for j,l in enumerate(sorted(loc)):\n",
    "                U[k, l] = M[i,j] \n",
    "\n",
    "        U_list.append(U)\n",
    "\n",
    "    U_list.reverse()\n",
    "\n",
    "    A_approx = reduce(lambda a,b : a @ b, U_list)\n",
    "    \n",
    "    return A_approx\n",
    "    "
   ]
  },
  {
   "cell_type": "markdown",
   "metadata": {},
   "source": [
    "# Stress tests"
   ]
  },
  {
   "cell_type": "code",
   "execution_count": 215,
   "metadata": {},
   "outputs": [],
   "source": [
    "A = np.array([[1, 1, 1, 0], \n",
    "              [1, w, w * w, 0],\n",
    "              [1, w * w, w, 0], \n",
    "              [0, 0, 0, -1j*np.sqrt(3)]]) / np.sqrt(3)\n",
    "\n",
    "B = unitary_group.rvs(2**2)\n",
    "\n",
    "num_qubits_C = 8\n",
    "\n",
    "C = unitary_group.rvs(2**num_qubits_C)\n"
   ]
  },
  {
   "cell_type": "markdown",
   "metadata": {},
   "source": [
    "## Two-level-decomp Method"
   ]
  },
  {
   "cell_type": "code",
   "execution_count": 216,
   "metadata": {},
   "outputs": [
    {
     "data": {
      "text/plain": [
       "True"
      ]
     },
     "execution_count": 216,
     "metadata": {},
     "output_type": "execute_result"
    }
   ],
   "source": [
    "# Test on A\n",
    "matrix_seq, location_seq = two_level_decomp(A)\n",
    "A_approx = recompose_matrix(matrix_seq, location_seq, num_qubits=2)\n",
    "np.allclose(A, A_approx)"
   ]
  },
  {
   "cell_type": "code",
   "execution_count": 217,
   "metadata": {},
   "outputs": [
    {
     "data": {
      "text/plain": [
       "True"
      ]
     },
     "execution_count": 217,
     "metadata": {},
     "output_type": "execute_result"
    }
   ],
   "source": [
    "# Test on B\n",
    "matrix_seq, location_seq = two_level_decomp(B)\n",
    "B_approx = recompose_matrix(matrix_seq, location_seq, num_qubits=2)\n",
    "np.allclose(B, B_approx)"
   ]
  },
  {
   "cell_type": "code",
   "execution_count": 212,
   "metadata": {},
   "outputs": [
    {
     "data": {
      "text/plain": [
       "True"
      ]
     },
     "execution_count": 212,
     "metadata": {},
     "output_type": "execute_result"
    }
   ],
   "source": [
    "# Test on C\n",
    "matrix_seq, location_seq = two_level_decomp(C)\n",
    "C_approx = recompose_matrix(matrix_seq, location_seq, num_qubits=num_qubits_C)\n",
    "np.allclose(C, C_approx)"
   ]
  },
  {
   "cell_type": "markdown",
   "metadata": {},
   "source": [
    "## Gray's Method"
   ]
  },
  {
   "cell_type": "code",
   "execution_count": 218,
   "metadata": {},
   "outputs": [
    {
     "data": {
      "text/plain": [
       "True"
      ]
     },
     "execution_count": 218,
     "metadata": {},
     "output_type": "execute_result"
    }
   ],
   "source": [
    "# Test on A\n",
    "matrix_seq, location_seq = gray_method(A)\n",
    "A_approx = recompose_matrix(matrix_seq, location_seq, num_qubits=2)\n",
    "np.allclose(A, A_approx)"
   ]
  },
  {
   "cell_type": "code",
   "execution_count": 220,
   "metadata": {},
   "outputs": [
    {
     "ename": "KeyboardInterrupt",
     "evalue": "",
     "output_type": "error",
     "traceback": [
      "\u001b[0;31m---------------------------------------------------------------------------\u001b[0m",
      "\u001b[0;31mKeyboardInterrupt\u001b[0m                         Traceback (most recent call last)",
      "\u001b[0;32m<ipython-input-220-eb9f39a2c4ac>\u001b[0m in \u001b[0;36m<module>\u001b[0;34m\u001b[0m\n\u001b[1;32m      1\u001b[0m \u001b[0;31m# Test on C\u001b[0m\u001b[0;34m\u001b[0m\u001b[0;34m\u001b[0m\u001b[0;34m\u001b[0m\u001b[0m\n\u001b[1;32m      2\u001b[0m \u001b[0mmatrix_seq\u001b[0m\u001b[0;34m,\u001b[0m \u001b[0mlocation_seq\u001b[0m \u001b[0;34m=\u001b[0m \u001b[0mgray_method\u001b[0m\u001b[0;34m(\u001b[0m\u001b[0mC\u001b[0m\u001b[0;34m)\u001b[0m\u001b[0;34m\u001b[0m\u001b[0;34m\u001b[0m\u001b[0m\n\u001b[0;32m----> 3\u001b[0;31m \u001b[0mC_approx\u001b[0m \u001b[0;34m=\u001b[0m \u001b[0mrecompose_matrix\u001b[0m\u001b[0;34m(\u001b[0m\u001b[0mmatrix_seq\u001b[0m\u001b[0;34m,\u001b[0m \u001b[0mlocation_seq\u001b[0m\u001b[0;34m,\u001b[0m \u001b[0mnum_qubits\u001b[0m\u001b[0;34m=\u001b[0m\u001b[0mnum_qubits_C\u001b[0m\u001b[0;34m)\u001b[0m\u001b[0;34m\u001b[0m\u001b[0;34m\u001b[0m\u001b[0m\n\u001b[0m\u001b[1;32m      4\u001b[0m \u001b[0mnp\u001b[0m\u001b[0;34m.\u001b[0m\u001b[0mallclose\u001b[0m\u001b[0;34m(\u001b[0m\u001b[0mC\u001b[0m\u001b[0;34m,\u001b[0m \u001b[0mC_approx\u001b[0m\u001b[0;34m)\u001b[0m\u001b[0;34m\u001b[0m\u001b[0;34m\u001b[0m\u001b[0m\n",
      "\u001b[0;32m<ipython-input-214-9b0c9ef93d64>\u001b[0m in \u001b[0;36mrecompose_matrix\u001b[0;34m(matrix_seq, location_seq, num_qubits)\u001b[0m\n\u001b[1;32m      3\u001b[0m     \u001b[0mU_list\u001b[0m \u001b[0;34m=\u001b[0m \u001b[0;34m[\u001b[0m\u001b[0;34m]\u001b[0m\u001b[0;34m\u001b[0m\u001b[0;34m\u001b[0m\u001b[0m\n\u001b[1;32m      4\u001b[0m     \u001b[0;32mfor\u001b[0m \u001b[0mM\u001b[0m\u001b[0;34m,\u001b[0m \u001b[0mloc\u001b[0m \u001b[0;32min\u001b[0m \u001b[0mzip\u001b[0m\u001b[0;34m(\u001b[0m\u001b[0mmatrix_seq\u001b[0m\u001b[0;34m,\u001b[0m \u001b[0mlocation_seq\u001b[0m\u001b[0;34m)\u001b[0m\u001b[0;34m:\u001b[0m\u001b[0;34m\u001b[0m\u001b[0;34m\u001b[0m\u001b[0m\n\u001b[0;32m----> 5\u001b[0;31m         \u001b[0mU\u001b[0m \u001b[0;34m=\u001b[0m \u001b[0mnp\u001b[0m\u001b[0;34m.\u001b[0m\u001b[0meye\u001b[0m\u001b[0;34m(\u001b[0m\u001b[0;36m2\u001b[0m\u001b[0;34m**\u001b[0m\u001b[0mnum_qubits\u001b[0m\u001b[0;34m,\u001b[0m \u001b[0mdtype\u001b[0m\u001b[0;34m=\u001b[0m\u001b[0mnp\u001b[0m\u001b[0;34m.\u001b[0m\u001b[0mcomplex128\u001b[0m\u001b[0;34m)\u001b[0m\u001b[0;34m\u001b[0m\u001b[0;34m\u001b[0m\u001b[0m\n\u001b[0m\u001b[1;32m      6\u001b[0m         \u001b[0;32mfor\u001b[0m \u001b[0mi\u001b[0m\u001b[0;34m,\u001b[0m\u001b[0mk\u001b[0m \u001b[0;32min\u001b[0m \u001b[0menumerate\u001b[0m\u001b[0;34m(\u001b[0m\u001b[0msorted\u001b[0m\u001b[0;34m(\u001b[0m\u001b[0mloc\u001b[0m\u001b[0;34m)\u001b[0m\u001b[0;34m)\u001b[0m\u001b[0;34m:\u001b[0m\u001b[0;34m\u001b[0m\u001b[0;34m\u001b[0m\u001b[0m\n\u001b[1;32m      7\u001b[0m             \u001b[0;32mfor\u001b[0m \u001b[0mj\u001b[0m\u001b[0;34m,\u001b[0m\u001b[0ml\u001b[0m \u001b[0;32min\u001b[0m \u001b[0menumerate\u001b[0m\u001b[0;34m(\u001b[0m\u001b[0msorted\u001b[0m\u001b[0;34m(\u001b[0m\u001b[0mloc\u001b[0m\u001b[0;34m)\u001b[0m\u001b[0;34m)\u001b[0m\u001b[0;34m:\u001b[0m\u001b[0;34m\u001b[0m\u001b[0;34m\u001b[0m\u001b[0m\n",
      "\u001b[0;32m~/Desktop/qchack/.env/lib/python3.7/site-packages/numpy/lib/twodim_base.py\u001b[0m in \u001b[0;36meye\u001b[0;34m(N, M, k, dtype, order, like)\u001b[0m\n\u001b[1;32m    214\u001b[0m     \u001b[0;32melse\u001b[0m\u001b[0;34m:\u001b[0m\u001b[0;34m\u001b[0m\u001b[0;34m\u001b[0m\u001b[0m\n\u001b[1;32m    215\u001b[0m         \u001b[0mi\u001b[0m \u001b[0;34m=\u001b[0m \u001b[0;34m(\u001b[0m\u001b[0;34m-\u001b[0m\u001b[0mk\u001b[0m\u001b[0;34m)\u001b[0m \u001b[0;34m*\u001b[0m \u001b[0mM\u001b[0m\u001b[0;34m\u001b[0m\u001b[0;34m\u001b[0m\u001b[0m\n\u001b[0;32m--> 216\u001b[0;31m     \u001b[0mm\u001b[0m\u001b[0;34m[\u001b[0m\u001b[0;34m:\u001b[0m\u001b[0mM\u001b[0m\u001b[0;34m-\u001b[0m\u001b[0mk\u001b[0m\u001b[0;34m]\u001b[0m\u001b[0;34m.\u001b[0m\u001b[0mflat\u001b[0m\u001b[0;34m[\u001b[0m\u001b[0mi\u001b[0m\u001b[0;34m:\u001b[0m\u001b[0;34m:\u001b[0m\u001b[0mM\u001b[0m\u001b[0;34m+\u001b[0m\u001b[0;36m1\u001b[0m\u001b[0;34m]\u001b[0m \u001b[0;34m=\u001b[0m \u001b[0;36m1\u001b[0m\u001b[0;34m\u001b[0m\u001b[0;34m\u001b[0m\u001b[0m\n\u001b[0m\u001b[1;32m    217\u001b[0m     \u001b[0;32mreturn\u001b[0m \u001b[0mm\u001b[0m\u001b[0;34m\u001b[0m\u001b[0;34m\u001b[0m\u001b[0m\n\u001b[1;32m    218\u001b[0m \u001b[0;34m\u001b[0m\u001b[0m\n",
      "\u001b[0;31mKeyboardInterrupt\u001b[0m: "
     ]
    }
   ],
   "source": [
    "# Test on B\n",
    "matrix_seq, location_seq = gray_method(B)\n",
    "B_approx = recompose_matrix(matrix_seq, location_seq, num_qubits=2)\n",
    "np.allclose(B, B_approx)\n",
    "\n",
    "# Test on C\n",
    "matrix_seq, location_seq = gray_method(C)\n",
    "C_approx = recompose_matrix(matrix_seq, location_seq, num_qubits=num_qubits_C)\n",
    "np.allclose(C, C_approx)"
   ]
  },
  {
   "cell_type": "code",
   "execution_count": null,
   "metadata": {},
   "outputs": [],
   "source": []
  }
 ],
 "metadata": {
  "kernelspec": {
   "display_name": "Python 3",
   "language": "python",
   "name": "python3"
  },
  "language_info": {
   "codemirror_mode": {
    "name": "ipython",
    "version": 3
   },
   "file_extension": ".py",
   "mimetype": "text/x-python",
   "name": "python",
   "nbconvert_exporter": "python",
   "pygments_lexer": "ipython3",
   "version": "3.7.7"
  }
 },
 "nbformat": 4,
 "nbformat_minor": 4
}
