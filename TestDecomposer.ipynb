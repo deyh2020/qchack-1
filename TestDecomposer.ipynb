{
 "cells": [
  {
   "cell_type": "code",
   "execution_count": 1,
   "metadata": {},
   "outputs": [],
   "source": [
    "import numpy as np"
   ]
  },
  {
   "cell_type": "code",
   "execution_count": null,
   "metadata": {},
   "outputs": [],
   "source": []
  },
  {
   "cell_type": "code",
   "execution_count": 2,
   "metadata": {},
   "outputs": [],
   "source": [
    "# useful matrices\n",
    "Identity_22 = np.eye(2, dtype=np.complex128)\n",
    "Pauli_x = np.array([[0, 1], [1, 0]], dtype=np.complex128)\n",
    "\n",
    "# threshold\n",
    "thr = 10**-9"
   ]
  },
  {
   "cell_type": "code",
   "execution_count": 68,
   "metadata": {},
   "outputs": [],
   "source": [
    "def is_unitary(A):\n",
    "    n = A.shape[0]\n",
    "    if (A.shape != (n, n)):\n",
    "        raise ValueError(\"Matrix is not square.\")\n",
    "    A = np.array(A)\n",
    "    return np.allclose(np.eye(n), A @ A.conj().T)\n",
    "\n",
    "\n",
    "def is_identity(A):\n",
    "    n = A.shape[0]\n",
    "    if (A.shape != (n, n)):\n",
    "        raise ValueError(\"Matrix is not square.\")\n",
    "    return np.allclose(A, np.eye(n))\n",
    "\n",
    "\n",
    "def elimination_matrix(a,b):\n",
    "    # a, b allowed to be complex\n",
    "    \n",
    "    # impose theta real + positive {eq.10}\n",
    "    theta = np.arctan(abs(b/a))\n",
    "    \n",
    "    # lambda is the negative arg() of a\n",
    "    lamda = - np.angle(a)\n",
    "    \n",
    "    # {eq.12}\n",
    "    mu = np.pi + np.angle(b)\n",
    "    \n",
    "    # {eq.7}\n",
    "    U_special = np.array([ [np.exp(1j*lamda) * np.cos(theta), np.exp(1j*mu) * np.sin(theta)],\n",
    "                           [-np.exp(-1j*mu) * np.sin(theta), np.exp(-1j*lamda) * np.cos(theta)] ])\n",
    "    \n",
    "    return U_special\n",
    "\n",
    "\n",
    "def two_level_decomp(A):\n",
    "    n = A.shape[0]\n",
    "    decomp = []\n",
    "    indices = []\n",
    "    A_c = np.copy(A)\n",
    "\n",
    "    for i in range(n-2):\n",
    "        for j in range(n-1, i, -1):\n",
    "\n",
    "            a = A_c[i,j-1]\n",
    "            b = A_c[i,j]\n",
    "\n",
    "            # --- need checks --- \n",
    "            # if A[i,j] = 0, nothing to do! Except in last row - need to check diagonal element is 1 \n",
    "            if abs(A_c[i,j]) < thr:\n",
    "                U_22 = Identity_22\n",
    "\n",
    "                if j == i+1:\n",
    "                    U_22 = np.array([[1 / a, 0], [0, a]])\n",
    "\n",
    "            # if A[i,j-1] = 0, need to swap columns - again checking last row to ensure diagonal element is 1 \n",
    "            elif abs(A_c[i,j-1]) < thr:\n",
    "                U_22 = Pauli_x\n",
    "\n",
    "                if j == i+1:\n",
    "                    U_22 = np.array([[1 / b, 0], [0, b]])\n",
    "\n",
    "            # Special unitary matrix\n",
    "            else: \n",
    "                U_22 = elimination_matrix(a,b)\n",
    "\n",
    "            # ----- U_22 found -----\n",
    "\n",
    "            # multiply submatrix of A with U_22\n",
    "            A_c[:,(j-1,j)] = A_c[:,(j-1,j)] @ U_22\n",
    "\n",
    "            # If not the identity matrix - represents a gate! So should store\n",
    "            if not is_identity(U_22):\n",
    "                decomp.append(U_22.conj().T)\n",
    "                indices.append(np.array([j-1,j]))\n",
    "\n",
    "\n",
    "        # check for diagonal element equal to 1\n",
    "        assert np.allclose(A_c[i,i],1.0)\n",
    "    \n",
    "    # lower right hand 2x2 matrix remaining after decomp\n",
    "    lower_rh_matrix = A_c[n-2:n, n-2:n]\n",
    "    \n",
    "    # if not equal to I - is a non trivial gate\n",
    "    if not is_identity(lower_rh_matrix):\n",
    "        decomp.append(lower_rh_matrix)\n",
    "        indices.append(np.array([n-2,n-1]))\n",
    "\n",
    "    return decomp, indices\n",
    "\n",
    "\n",
    "def gray_method(A):\n",
    "    \n",
    "    n = A.shape[0]\n",
    "#     A = np.array(A)\n",
    "    # using bitwise_xor find Gray permutations\n",
    "    permutations = []\n",
    "    for i in range(n):\n",
    "        permutations.append(i ^ (i // 2))\n",
    "        \n",
    "    # \n",
    "    A[:,:] = A[:,permutations]\n",
    "    A[:,:] = A[permutations,:]\n",
    "    \n",
    "    decomp, indices = two_level_decomp(A)\n",
    "    new_ind = []\n",
    "    \n",
    "    for pair in indices:\n",
    "        new_ind.append(np.take(permutations, pair, 0))\n",
    "        \n",
    "        \n",
    "    return decomp, new_ind\n",
    "    "
   ]
  },
  {
   "cell_type": "code",
   "execution_count": 69,
   "metadata": {},
   "outputs": [],
   "source": [
    "# test matrix\n",
    "w = np.exp((2j / 3) * np.pi)\n"
   ]
  },
  {
   "cell_type": "code",
   "execution_count": 70,
   "metadata": {},
   "outputs": [
    {
     "data": {
      "text/plain": [
       "([array([[ 0.70710678-0.00000000e+00j,  0.70710678-8.65956056e-17j],\n",
       "         [-0.70710678-8.65956056e-17j,  0.70710678-0.00000000e+00j]]),\n",
       "  array([[ 0.57735027-0.00000000e+00j,  0.81649658-9.99919924e-17j],\n",
       "         [-0.81649658-9.99919924e-17j,  0.57735027-0.00000000e+00j]]),\n",
       "  array([[-7.07106781e-01+8.65956056e-17j, -5.14325540e-16-7.07106781e-01j],\n",
       "         [ 5.14325540e-16-7.07106781e-01j, -7.07106781e-01-8.65956056e-17j]]),\n",
       "  array([[-6.98727119e-16-1.j,  0.00000000e+00+0.j],\n",
       "         [ 0.00000000e+00+0.j,  0.00000000e+00-1.j]])],\n",
       " [array([1, 2]), array([0, 1]), array([1, 2]), array([2, 3])])"
      ]
     },
     "execution_count": 70,
     "metadata": {},
     "output_type": "execute_result"
    }
   ],
   "source": [
    "A = np.array([[1, 1, 1, 0], \n",
    "                  [1, w, w * w, 0],\n",
    "                  [1, w * w, w, 0], \n",
    "                  [0, 0, 0, -1j*np.sqrt(3)]]) / np.sqrt(3)\n",
    "two_level_decomp(A)"
   ]
  },
  {
   "cell_type": "code",
   "execution_count": 71,
   "metadata": {},
   "outputs": [
    {
     "data": {
      "text/plain": [
       "[[[ 0.70710678-0.00000000e+00j  0.70710678-8.65956056e-17j]\n",
       "  [-0.70710678-8.65956056e-17j  0.70710678-0.00000000e+00j]] on (1, 2),\n",
       " [[ 0.57735027-0.00000000e+00j  0.81649658-9.99919924e-17j]\n",
       "  [-0.81649658-9.99919924e-17j  0.57735027-0.00000000e+00j]] on (0, 1),\n",
       " [[-7.07106781e-01+8.65956056e-17j -5.14325540e-16-7.07106781e-01j]\n",
       "  [ 5.14325540e-16-7.07106781e-01j -7.07106781e-01-8.65956056e-17j]] on (1, 2),\n",
       " [[-6.98727119e-16-1.j  0.00000000e+00+0.j]\n",
       "  [ 0.00000000e+00+0.j  0.00000000e+00-1.j]] on (2, 3)]"
      ]
     },
     "execution_count": 71,
     "metadata": {},
     "output_type": "execute_result"
    }
   ],
   "source": [
    "import quantum_decomp as qd\n",
    "\n",
    "A = np.array([[1, 1, 1, 0], \n",
    "                  [1, w, w * w, 0],\n",
    "                  [1, w * w, w, 0], \n",
    "                  [0, 0, 0, -1j*np.sqrt(3)]]) / np.sqrt(3)\n",
    "qd.two_level_decompose(A)"
   ]
  },
  {
   "cell_type": "code",
   "execution_count": 72,
   "metadata": {},
   "outputs": [
    {
     "data": {
      "text/plain": [
       "([array([[0.-0.j, 1.-0.j],\n",
       "         [1.-0.j, 0.-0.j]]),\n",
       "  array([[ 0.70710678-0.00000000e+00j,  0.70710678-8.65956056e-17j],\n",
       "         [-0.70710678-8.65956056e-17j,  0.70710678-0.00000000e+00j]]),\n",
       "  array([[ 0.57735027-0.00000000e+00j,  0.81649658-9.99919924e-17j],\n",
       "         [-0.81649658-9.99919924e-17j,  0.57735027-0.00000000e+00j]]),\n",
       "  array([[-7.07106781e-01+8.65956056e-17j, -5.14325540e-16-7.07106781e-01j],\n",
       "         [ 5.14325540e-16-7.07106781e-01j, -7.07106781e-01-8.65956056e-17j]]),\n",
       "  array([[ 0.00000000e+00+0.j,  0.00000000e+00-1.j],\n",
       "         [-6.98727119e-16-1.j,  0.00000000e+00+0.j]])],\n",
       " [array([3, 2]), array([1, 3]), array([0, 1]), array([1, 3]), array([3, 2])])"
      ]
     },
     "execution_count": 72,
     "metadata": {},
     "output_type": "execute_result"
    }
   ],
   "source": [
    "A = np.array([[1, 1, 1, 0], \n",
    "                  [1, w, w * w, 0],\n",
    "                  [1, w * w, w, 0], \n",
    "                  [0, 0, 0, -1j*np.sqrt(3)]]) / np.sqrt(3)\n",
    "gray_method(A)"
   ]
  },
  {
   "cell_type": "code",
   "execution_count": 73,
   "metadata": {},
   "outputs": [
    {
     "data": {
      "text/plain": [
       "[[[0.+0.j 1.+0.j]\n",
       "  [1.+0.j 0.+0.j]] on (2, 3),\n",
       " [[ 0.70710678-0.00000000e+00j  0.70710678-8.65956056e-17j]\n",
       "  [-0.70710678-8.65956056e-17j  0.70710678-0.00000000e+00j]] on (1, 3),\n",
       " [[ 0.57735027-0.00000000e+00j  0.81649658-9.99919924e-17j]\n",
       "  [-0.81649658-9.99919924e-17j  0.57735027-0.00000000e+00j]] on (0, 1),\n",
       " [[-7.07106781e-01+8.65956056e-17j -5.14325540e-16-7.07106781e-01j]\n",
       "  [ 5.14325540e-16-7.07106781e-01j -7.07106781e-01-8.65956056e-17j]] on (1, 3),\n",
       " [[ 0.00000000e+00+0.j -6.98727119e-16-1.j]\n",
       "  [ 0.00000000e+00-1.j  0.00000000e+00+0.j]] on (2, 3)]"
      ]
     },
     "execution_count": 73,
     "metadata": {},
     "output_type": "execute_result"
    }
   ],
   "source": [
    "A = np.array([[1, 1, 1, 0], \n",
    "                  [1, w, w * w, 0],\n",
    "                  [1, w * w, w, 0], \n",
    "                  [0, 0, 0, -1j*np.sqrt(3)]]) / np.sqrt(3)\n",
    "qd.two_level_decompose_gray(A)"
   ]
  },
  {
   "cell_type": "code",
   "execution_count": 6,
   "metadata": {},
   "outputs": [
    {
     "data": {
      "text/plain": [
       "([array([[-0.77695238-0.60317059j, -0.14463745-0.10775083j],\n",
       "         [ 0.14463745-0.10775083j, -0.77695238+0.60317059j]]),\n",
       "  array([[ 0.17616313+2.56884244e-01j,  0.95025104-1.16372189e-16j],\n",
       "         [-0.95025104-1.16372189e-16j,  0.17616313-2.56884244e-01j]]),\n",
       "  array([[ 0.20983353-5.61979161e-02j,  0.97612073-1.19540313e-16j],\n",
       "         [-0.97612073-1.19540313e-16j,  0.20983353+5.61979161e-02j]]),\n",
       "  array([[-0.26391813-0.63936628j,  0.70891196-0.13784708j],\n",
       "         [-0.70891196-0.13784708j, -0.26391813+0.63936628j]]),\n",
       "  array([[-0.24635352-4.37044727e-01j,  0.86504442-1.05937388e-16j],\n",
       "         [-0.86504442-1.05937388e-16j, -0.24635352+4.37044727e-01j]]),\n",
       "  array([[-0.57317126-0.65918696j, -0.16480552-0.45802444j],\n",
       "         [ 0.3980361 -0.28020442j, -0.84785146+0.21023953j]])],\n",
       " [array([2, 3]),\n",
       "  array([1, 2]),\n",
       "  array([0, 1]),\n",
       "  array([2, 3]),\n",
       "  array([1, 2]),\n",
       "  array([2, 3])])"
      ]
     },
     "execution_count": 6,
     "metadata": {},
     "output_type": "execute_result"
    }
   ],
   "source": [
    "from scipy.stats import unitary_group\n",
    "nq = 2\n",
    "A = unitary_group.rvs(2**nq)\n",
    "decomp, indices = two_level_decomp(A)\n",
    "decomp"
   ]
  }
 ],
 "metadata": {
  "kernelspec": {
   "display_name": "Python 3",
   "language": "python",
   "name": "python3"
  },
  "language_info": {
   "codemirror_mode": {
    "name": "ipython",
    "version": 3
   },
   "file_extension": ".py",
   "mimetype": "text/x-python",
   "name": "python",
   "nbconvert_exporter": "python",
   "pygments_lexer": "ipython3",
   "version": "3.8.3"
  }
 },
 "nbformat": 4,
 "nbformat_minor": 4
}
