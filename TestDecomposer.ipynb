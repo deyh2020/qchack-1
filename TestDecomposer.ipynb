{
 "cells": [
  {
   "cell_type": "code",
   "execution_count": 1,
   "metadata": {},
   "outputs": [],
   "source": [
    "import numpy as np"
   ]
  },
  {
   "cell_type": "code",
   "execution_count": 69,
   "metadata": {},
   "outputs": [],
   "source": []
  },
  {
   "cell_type": "code",
   "execution_count": 63,
   "metadata": {},
   "outputs": [],
   "source": [
    "# useful matrices\n",
    "Identity_22 = np.eye(2, dtype=np.complex128)\n",
    "Pauli_x = np.array([[0, 1], [1, 0]], dtype=np.complex128)\n",
    "\n",
    "# threshold\n",
    "thr = 10**-9"
   ]
  },
  {
   "cell_type": "code",
   "execution_count": 183,
   "metadata": {},
   "outputs": [],
   "source": [
    "def is_unitary(A):\n",
    "    n = A.shape[0]\n",
    "    if (A.shape != (n, n)):\n",
    "        raise ValueError(\"Matrix is not square.\")\n",
    "    A = np.array(A)\n",
    "    return np.allclose(np.eye(n), A @ A.conj().T)\n",
    "\n",
    "\n",
    "def is_identity(A):\n",
    "    n = A.shape[0]\n",
    "    if (A.shape != (n, n)):\n",
    "        raise ValueError(\"Matrix is not square.\")\n",
    "    return np.allclose(A, np.eye(n))\n",
    "\n",
    "\n",
    "def elimination_matrix(a,b):\n",
    "    # a, b allowed to be complex\n",
    "    \n",
    "    # impose theta real + positive {eq.10}\n",
    "    theta = np.arctan(abs(b/a))\n",
    "    \n",
    "    # lambda is the negative arg() of a\n",
    "    lamda = - np.angle(a)\n",
    "    \n",
    "    # {eq.12}\n",
    "    mu = np.pi + np.angle(b)\n",
    "    \n",
    "    # {eq.7}\n",
    "    U_special = np.array([ [np.exp(1j*lamda) * np.cos(theta), np.exp(1j*mu) * np.sin(theta)],\n",
    "                           [-np.exp(-1j*mu) * np.sin(theta), np.exp(-1j*lamda) * np.cos(theta)] ])\n",
    "    \n",
    "    return U_special\n",
    "\n",
    "\n",
    "def two_level_decomp(A):\n",
    "    n = A.shape[0]\n",
    "    decomp = []\n",
    "    indices = []\n",
    "    A_c = np.copy(A)\n",
    "\n",
    "    n = A_c.shape[0]\n",
    "    for i in range(n-2):\n",
    "        for j in range(n-1, i, -1):\n",
    "\n",
    "            a = A_c[i,j-1]\n",
    "            b = A_c[i,j]\n",
    "\n",
    "            # --- need checks --- \n",
    "            # if A[i,j] = 0, nothing to do! Except in last row - need to check diagonal element is 1 \n",
    "            if abs(A_c[i,j]) < thr:\n",
    "                U_22 = Identity_22\n",
    "\n",
    "                if j == i+1:\n",
    "                    U_22 = np.array([[1 / a, 0], [0, a]])\n",
    "\n",
    "            # if A[i,j-1] = 0, need to swap columns - again checking last row to ensure diagonal element is 1 \n",
    "            elif abs(A_c[i,j-1]) < thr:\n",
    "                U_22 = Pauli_x\n",
    "\n",
    "                if j == i+1:\n",
    "                    U_22 = np.array([[1 / b, 0], [0, b]])\n",
    "\n",
    "            # Special unitary matrix\n",
    "            else: \n",
    "                U_22 = elimination_matrix(a,b)\n",
    "\n",
    "            # ----- U_22 found -----\n",
    "\n",
    "            # multiply submatrix of A with U_22\n",
    "            A_c[:,(j-1,j)] = A_c[:,(j-1,j)] @ U_22\n",
    "\n",
    "            # If not the identity matrix - represents a gate! So should store\n",
    "            if not is_identity(U_22):\n",
    "                decomp.append(U_22.conj().T)\n",
    "                indices.append(np.array([j-1,j]))\n",
    "\n",
    "\n",
    "        # check for diagonal element equal to 1\n",
    "        assert np.allclose(A_c[i,i],1.0)\n",
    "    \n",
    "    # lower right hand 2x2 matrix remaining after decomp\n",
    "    lower_rh_matrix = A_c[n-2:n, n-2:n]\n",
    "    \n",
    "    # if not equal to I - is a non trivial gate\n",
    "    if not is_identity(lower_rh_matrix):\n",
    "        decomp.append(lower_rh_matrix)\n",
    "        indices.append(np.array([n-2,n-1]))\n",
    "\n",
    "    return decomp, indices\n",
    "\n",
    "\n",
    "def gray_method(A):\n",
    "    \n",
    "    n = A.shape[0]\n",
    "    \n",
    "    # using bitwise_xor find Gray permutations\n",
    "    permutations = []\n",
    "    for i in range(n):\n",
    "        permutations.append(i ^ (i // 2))\n",
    "        \n",
    "    # \n",
    "    A[:,:] = A[:,permutations]\n",
    "    A[:,:] = A[permutations,:]\n",
    "    \n",
    "    decomp, indices = two_level_decomp(A)\n",
    "    new_ind = []\n",
    "    \n",
    "    for pair in indices:\n",
    "        new_ind.append(np.take(permutations, pair, 0))\n",
    "        \n",
    "        \n",
    "    return decomp, new_ind\n",
    "    "
   ]
  },
  {
   "cell_type": "code",
   "execution_count": 184,
   "metadata": {},
   "outputs": [
    {
     "data": {
      "text/plain": [
       "([array([[-0.27938904-0.94005548j,  0.07399077-0.18100504j],\n",
       "         [-0.07399077-0.18100504j, -0.27938904+0.94005548j]]),\n",
       "  array([[-0.26992115+4.74461663e-01j,  0.83787153-1.02609669e-16j],\n",
       "         [-0.83787153-1.02609669e-16j, -0.26992115-4.74461663e-01j]]),\n",
       "  array([[ 0.03435234-1.87689819e-01j,  0.98162745-1.20214691e-16j],\n",
       "         [-0.98162745-1.20214691e-16j,  0.03435234+1.87689819e-01j]]),\n",
       "  array([[-0.78987482-0.1433975j ,  0.58827772-0.09728433j],\n",
       "         [-0.58827772-0.09728433j, -0.78987482+0.1433975j ]]),\n",
       "  array([[-0.2908144 -3.75514655e-01j,  0.88000894-1.07770013e-16j],\n",
       "         [-0.88000894-1.07770013e-16j, -0.2908144 +3.75514655e-01j]]),\n",
       "  array([[-0.67174596-0.54306352j,  0.21235242+0.45688711j],\n",
       "         [-0.43583427+0.25276051j, -0.86170921+0.06014864j]])],\n",
       " [array([2, 3]),\n",
       "  array([1, 2]),\n",
       "  array([0, 1]),\n",
       "  array([2, 3]),\n",
       "  array([1, 2]),\n",
       "  array([2, 3])])"
      ]
     },
     "execution_count": 184,
     "metadata": {},
     "output_type": "execute_result"
    }
   ],
   "source": [
    "from scipy.stats import unitary_group\n",
    "nq = 2\n",
    "A = unitary_group.rvs(2**nq)\n",
    "decomp = two_level_decomp(A)\n",
    "decomp"
   ]
  },
  {
   "cell_type": "code",
   "execution_count": 185,
   "metadata": {},
   "outputs": [
    {
     "data": {
      "text/plain": [
       "([array([[ 0.07399077-0.18100504j, -0.27938904-0.94005548j],\n",
       "         [ 0.27938904-0.94005548j,  0.07399077+0.18100504j]]),\n",
       "  array([[-0.26992115+4.74461663e-01j,  0.83787153-1.02609669e-16j],\n",
       "         [-0.83787153-1.02609669e-16j, -0.26992115-4.74461663e-01j]]),\n",
       "  array([[ 0.03435234-1.87689819e-01j,  0.98162745+3.15715467e-16j],\n",
       "         [-0.98162745+3.15715467e-16j,  0.03435234+1.87689819e-01j]]),\n",
       "  array([[-0.78987482-0.1433975j , -0.58827772+0.09728433j],\n",
       "         [ 0.58827772+0.09728433j, -0.78987482+0.1433975j ]]),\n",
       "  array([[-0.2908144 -3.75514655e-01j,  0.88000894-1.07770013e-16j],\n",
       "         [-0.88000894-1.07770013e-16j, -0.2908144 +3.75514655e-01j]]),\n",
       "  array([[-0.43583427+0.25276051j,  0.86170921-0.06014864j],\n",
       "         [-0.67174596-0.54306352j, -0.21235242-0.45688711j]])],\n",
       " [array([3, 2]),\n",
       "  array([1, 3]),\n",
       "  array([0, 1]),\n",
       "  array([3, 2]),\n",
       "  array([1, 3]),\n",
       "  array([3, 2])])"
      ]
     },
     "execution_count": 185,
     "metadata": {},
     "output_type": "execute_result"
    }
   ],
   "source": [
    "gray_method(A)"
   ]
  },
  {
   "cell_type": "code",
   "execution_count": null,
   "metadata": {},
   "outputs": [],
   "source": []
  }
 ],
 "metadata": {
  "kernelspec": {
   "display_name": "Python 3",
   "language": "python",
   "name": "python3"
  },
  "language_info": {
   "codemirror_mode": {
    "name": "ipython",
    "version": 3
   },
   "file_extension": ".py",
   "mimetype": "text/x-python",
   "name": "python",
   "nbconvert_exporter": "python",
   "pygments_lexer": "ipython3",
   "version": "3.8.3"
  }
 },
 "nbformat": 4,
 "nbformat_minor": 4
}
