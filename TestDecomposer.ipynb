{
 "cells": [
  {
   "cell_type": "code",
   "execution_count": 1,
   "metadata": {},
   "outputs": [],
   "source": [
    "import numpy as np"
   ]
  },
  {
   "cell_type": "code",
   "execution_count": 2,
   "metadata": {},
   "outputs": [],
   "source": [
    "# useful matrices\n",
    "Identity_22 = np.eye(2, dtype=np.complex128)\n",
    "Pauli_x = np.array([[0, 1], [1, 0]], dtype=np.complex128)\n",
    "\n",
    "# threshold\n",
    "thr = 10**-9"
   ]
  },
  {
   "cell_type": "code",
   "execution_count": 7,
   "metadata": {},
   "outputs": [],
   "source": [
    "def is_unitary(A):\n",
    "    n = A.shape[0]\n",
    "    if (A.shape != (n, n)):\n",
    "        raise ValueError(\"Matrix is not square.\")\n",
    "    A = np.array(A)\n",
    "    return np.allclose(np.eye(n), A @ A.conj().T)\n",
    "\n",
    "\n",
    "def is_identity(A):\n",
    "    n = A.shape[0]\n",
    "    if (A.shape != (n, n)):\n",
    "        raise ValueError(\"Matrix is not square.\")\n",
    "    return np.allclose(A, np.eye(n))\n",
    "\n",
    "\n",
    "def elimination_matrix(a,b):\n",
    "    # a, b allowed to be complex\n",
    "    \n",
    "    # impose theta real + positive {eq.10}\n",
    "    theta = np.arctan(abs(b/a))\n",
    "    \n",
    "    # lambda is the negative arg() of a\n",
    "    lamda = - np.angle(a)\n",
    "    \n",
    "    # {eq.12}\n",
    "    mu = np.pi + np.angle(b)\n",
    "    \n",
    "    # {eq.7}\n",
    "    U_special = np.array([ [np.exp(1j*lamda) * np.cos(theta), np.exp(1j*mu) * np.sin(theta)],\n",
    "                           [-np.exp(-1j*mu) * np.sin(theta), np.exp(-1j*lamda) * np.cos(theta)] ])\n",
    "    \n",
    "    return U_special\n",
    "\n",
    "\n",
    "def two_level_decomp(A):\n",
    "    \n",
    "    \"\"\"\n",
    "    decomp - list of 2x2 unitaries that decompose A. To reconstruct A, the list of unitaries\n",
    "             in decomp must be reversed\n",
    "             \n",
    "    indices - list of non-trivial rows on which matrices in decomp act. For example, [1,3] indicates\n",
    "              that row 1 and 3 are non-trivial; all other elements are 1.\n",
    "    \"\"\"\n",
    "    \n",
    "    n = A.shape[0]\n",
    "    decomp = []\n",
    "    indices = []\n",
    "    A_c = np.copy(A)\n",
    "\n",
    "    for i in range(n-2):\n",
    "        for j in range(n-1, i, -1):\n",
    "\n",
    "            a = A_c[i,j-1]\n",
    "            b = A_c[i,j]\n",
    "\n",
    "            # --- need checks --- \n",
    "            # if A[i,j] = 0, nothing to do! Except in last row - need to check diagonal element is 1 \n",
    "            if abs(A_c[i,j]) < thr:\n",
    "                U_22 = Identity_22\n",
    "\n",
    "                if j == i+1:\n",
    "                    U_22 = np.array([[1 / a, 0], [0, a]])\n",
    "\n",
    "            # if A[i,j-1] = 0, need to swap columns - again checking last row to ensure diagonal element is 1 \n",
    "            elif abs(A_c[i,j-1]) < thr:\n",
    "                U_22 = Pauli_x\n",
    "\n",
    "                if j == i+1:\n",
    "                    U_22 = np.array([[1 / b, 0], [0, b]])\n",
    "\n",
    "            # Special unitary matrix\n",
    "            else: \n",
    "                U_22 = elimination_matrix(a,b)\n",
    "\n",
    "            # ----- U_22 found -----\n",
    "\n",
    "            # multiply submatrix of A with U_22\n",
    "            A_c[:,(j-1,j)] = A_c[:,(j-1,j)] @ U_22\n",
    "\n",
    "            # If not the identity matrix - represents a gate! So should store\n",
    "            if not is_identity(U_22):\n",
    "                decomp.append(U_22.conj().T)\n",
    "                indices.append(np.array([j-1,j]))\n",
    "\n",
    "\n",
    "        # check for diagonal element equal to 1\n",
    "        assert np.allclose(A_c[i,i],1.0)\n",
    "    \n",
    "    # lower right hand 2x2 matrix remaining after decomp\n",
    "    lower_rh_matrix = A_c[n-2:n, n-2:n]\n",
    "    \n",
    "    # if not equal to I - is a non trivial gate\n",
    "    if not is_identity(lower_rh_matrix):\n",
    "        decomp.append(lower_rh_matrix)\n",
    "        indices.append(np.array([n-2,n-1]))\n",
    "\n",
    "    return decomp, indices\n",
    "\n",
    "\n",
    "def gray_method(A):\n",
    "    \n",
    "    n = A.shape[0]\n",
    "    M = np.copy(A)\n",
    "\n",
    "    # using bitwise_xor find Gray permutations\n",
    "    permutations = []\n",
    "    for i in range(n):\n",
    "        permutations.append(i ^ (i // 2))\n",
    "        \n",
    "    # \n",
    "    M[:,:] = M[:,permutations]\n",
    "    M[:,:] = M[permutations,:]\n",
    "    \n",
    "    decomp, indices = two_level_decomp(M)\n",
    "    new_decomp = []\n",
    "    new_ind = []\n",
    "\n",
    "    for i in range(len(indices)):\n",
    "        \n",
    "        t = np.take(permutations, indices[i])\n",
    "        if t[0]>t[1]:\n",
    "            new_decomp.append(decomp[i].T)\n",
    "            new_ind.append(np.sort(t))\n",
    "\n",
    "        else:\n",
    "            new_decomp.append(decomp[i])\n",
    "            new_ind.append(t)\n",
    "            \n",
    "    return new_decomp, new_ind"
   ]
  },
  {
   "cell_type": "code",
   "execution_count": 77,
   "metadata": {},
   "outputs": [],
   "source": [
    "from functools import reduce\n",
    "def recompose_matrix(matrix_seq, location_seq, num_qubits):\n",
    "    U_list = []\n",
    "    for M, loc in zip(matrix_seq, location_seq):\n",
    "        \n",
    "        U = np.eye(2**num_qubits, dtype=np.complex128)\n",
    "        r1 = loc[0]\n",
    "        \n",
    "        U[r1:r1+2,r1:r1+2] = M\n",
    "        U_list.append(U)\n",
    "\n",
    "    U_list.reverse()\n",
    "\n",
    "    A_approx = reduce(lambda a,b : a @ b, U_list)\n",
    "    \n",
    "    return A_approx"
   ]
  },
  {
   "cell_type": "code",
   "execution_count": 5,
   "metadata": {},
   "outputs": [],
   "source": [
    "# test matrix\n",
    "w = np.exp((2j / 3) * np.pi)\n",
    "A = np.array([[1, 1, 1, 0], \n",
    "                  [1, w, w * w, 0],\n",
    "                  [1, w * w, w, 0], \n",
    "                  [0, 0, 0, -1j*np.sqrt(3)]]) / np.sqrt(3)"
   ]
  },
  {
   "cell_type": "code",
   "execution_count": 6,
   "metadata": {},
   "outputs": [],
   "source": [
    "# from scipy.stats import unitary_group\n",
    "# nq = 2\n",
    "# A = unitary_group.rvs(2**nq)\n",
    "# decomp, indices = two_level_decomp(A)\n",
    "# decomp, indices"
   ]
  },
  {
   "cell_type": "markdown",
   "metadata": {},
   "source": [
    "# Stress tests"
   ]
  },
  {
   "cell_type": "code",
   "execution_count": 54,
   "metadata": {},
   "outputs": [
    {
     "ename": "NameError",
     "evalue": "name 'unitary_group' is not defined",
     "output_type": "error",
     "traceback": [
      "\u001b[0;31m---------------------------------------------------------------------------\u001b[0m",
      "\u001b[0;31mNameError\u001b[0m                                 Traceback (most recent call last)",
      "\u001b[0;32m<ipython-input-54-a99c03bc59fa>\u001b[0m in \u001b[0;36m<module>\u001b[0;34m\u001b[0m\n\u001b[1;32m      4\u001b[0m               [0, 0, 0, -1j*np.sqrt(3)]]) / np.sqrt(3)\n\u001b[1;32m      5\u001b[0m \u001b[0;34m\u001b[0m\u001b[0m\n\u001b[0;32m----> 6\u001b[0;31m \u001b[0mB\u001b[0m \u001b[0;34m=\u001b[0m \u001b[0munitary_group\u001b[0m\u001b[0;34m.\u001b[0m\u001b[0mrvs\u001b[0m\u001b[0;34m(\u001b[0m\u001b[0;36m2\u001b[0m\u001b[0;34m**\u001b[0m\u001b[0;36m2\u001b[0m\u001b[0;34m)\u001b[0m\u001b[0;34m\u001b[0m\u001b[0;34m\u001b[0m\u001b[0m\n\u001b[0m\u001b[1;32m      7\u001b[0m \u001b[0;34m\u001b[0m\u001b[0m\n\u001b[1;32m      8\u001b[0m \u001b[0mnum_qubits_C\u001b[0m \u001b[0;34m=\u001b[0m \u001b[0;36m8\u001b[0m\u001b[0;34m\u001b[0m\u001b[0;34m\u001b[0m\u001b[0m\n",
      "\u001b[0;31mNameError\u001b[0m: name 'unitary_group' is not defined"
     ]
    }
   ],
   "source": [
    "A = np.array([[1, 1, 1, 0], \n",
    "              [1, w, w * w, 0],\n",
    "              [1, w * w, w, 0], \n",
    "              [0, 0, 0, -1j*np.sqrt(3)]]) / np.sqrt(3)\n",
    "\n",
    "B = unitary_group.rvs(2**2)\n",
    "\n",
    "num_qubits_C = 8\n",
    "\n",
    "C = unitary_group.rvs(2**num_qubits_C)\n"
   ]
  },
  {
   "cell_type": "markdown",
   "metadata": {},
   "source": [
    "## Two-level-decomp Method"
   ]
  },
  {
   "cell_type": "code",
   "execution_count": 76,
   "metadata": {},
   "outputs": [
    {
     "name": "stdout",
     "output_type": "stream",
     "text": [
      "[14 15]\n",
      "[13 14]\n",
      "[12 13]\n",
      "[11 12]\n",
      "[10 11]\n",
      "[ 9 10]\n",
      "[8 9]\n",
      "[7 8]\n",
      "[6 7]\n",
      "[5 6]\n",
      "[4 5]\n",
      "[3 4]\n",
      "[2 3]\n",
      "[1 2]\n",
      "[0 1]\n",
      "[14 15]\n",
      "[13 14]\n",
      "[12 13]\n",
      "[11 12]\n",
      "[10 11]\n",
      "[ 9 10]\n",
      "[8 9]\n",
      "[7 8]\n",
      "[6 7]\n",
      "[5 6]\n",
      "[4 5]\n",
      "[3 4]\n",
      "[2 3]\n",
      "[1 2]\n",
      "[14 15]\n",
      "[13 14]\n",
      "[12 13]\n",
      "[11 12]\n",
      "[10 11]\n",
      "[ 9 10]\n",
      "[8 9]\n",
      "[7 8]\n",
      "[6 7]\n",
      "[5 6]\n",
      "[4 5]\n",
      "[3 4]\n",
      "[2 3]\n",
      "[14 15]\n",
      "[13 14]\n",
      "[12 13]\n",
      "[11 12]\n",
      "[10 11]\n",
      "[ 9 10]\n",
      "[8 9]\n",
      "[7 8]\n",
      "[6 7]\n",
      "[5 6]\n",
      "[4 5]\n",
      "[3 4]\n",
      "[14 15]\n",
      "[13 14]\n",
      "[12 13]\n",
      "[11 12]\n",
      "[10 11]\n",
      "[ 9 10]\n",
      "[8 9]\n",
      "[7 8]\n",
      "[6 7]\n",
      "[5 6]\n",
      "[4 5]\n",
      "[14 15]\n",
      "[13 14]\n",
      "[12 13]\n",
      "[11 12]\n",
      "[10 11]\n",
      "[ 9 10]\n",
      "[8 9]\n",
      "[7 8]\n",
      "[6 7]\n",
      "[5 6]\n",
      "[14 15]\n",
      "[13 14]\n",
      "[12 13]\n",
      "[11 12]\n",
      "[10 11]\n",
      "[ 9 10]\n",
      "[8 9]\n",
      "[7 8]\n",
      "[6 7]\n",
      "[14 15]\n",
      "[13 14]\n",
      "[12 13]\n",
      "[11 12]\n",
      "[10 11]\n",
      "[ 9 10]\n",
      "[8 9]\n",
      "[7 8]\n",
      "[14 15]\n",
      "[13 14]\n",
      "[12 13]\n",
      "[11 12]\n",
      "[10 11]\n",
      "[ 9 10]\n",
      "[8 9]\n",
      "[14 15]\n",
      "[13 14]\n",
      "[12 13]\n",
      "[11 12]\n",
      "[10 11]\n",
      "[ 9 10]\n",
      "[14 15]\n",
      "[13 14]\n",
      "[12 13]\n",
      "[11 12]\n",
      "[10 11]\n",
      "[14 15]\n",
      "[13 14]\n",
      "[12 13]\n",
      "[11 12]\n",
      "[14 15]\n",
      "[13 14]\n",
      "[12 13]\n",
      "[14 15]\n",
      "[13 14]\n",
      "[14 15]\n",
      "True\n"
     ]
    }
   ],
   "source": [
    "# Test on A\n",
    "import numpy as np\n",
    "from scipy.linalg import expm, sinm, cosm\n",
    "\n",
    "nqbits = 4\n",
    "\n",
    "m = np.random.rand(2**nqbits,2**nqbits)\n",
    "H = m + np.conj(np.transpose(m))\n",
    "u = expm(1.j*H)\n",
    "\n",
    "matrix_seq, location_seq = two_level_decomp(u)\n",
    "A_approx = recompose_matrix(matrix_seq, location_seq, nqbits)\n",
    "print(np.allclose(u, A_approx))"
   ]
  },
  {
   "cell_type": "code",
   "execution_count": 65,
   "metadata": {},
   "outputs": [
    {
     "ename": "NameError",
     "evalue": "name 'B' is not defined",
     "output_type": "error",
     "traceback": [
      "\u001b[0;31m---------------------------------------------------------------------------\u001b[0m",
      "\u001b[0;31mNameError\u001b[0m                                 Traceback (most recent call last)",
      "\u001b[0;32m<ipython-input-65-4f436a83e1d6>\u001b[0m in \u001b[0;36m<module>\u001b[0;34m\u001b[0m\n\u001b[1;32m      1\u001b[0m \u001b[0;31m# Test on B\u001b[0m\u001b[0;34m\u001b[0m\u001b[0;34m\u001b[0m\u001b[0;34m\u001b[0m\u001b[0m\n\u001b[0;32m----> 2\u001b[0;31m \u001b[0mmatrix_seq\u001b[0m\u001b[0;34m,\u001b[0m \u001b[0mlocation_seq\u001b[0m \u001b[0;34m=\u001b[0m \u001b[0mtwo_level_decomp\u001b[0m\u001b[0;34m(\u001b[0m\u001b[0mB\u001b[0m\u001b[0;34m)\u001b[0m\u001b[0;34m\u001b[0m\u001b[0;34m\u001b[0m\u001b[0m\n\u001b[0m\u001b[1;32m      3\u001b[0m \u001b[0mB_approx\u001b[0m \u001b[0;34m=\u001b[0m \u001b[0mrecompose_matrix\u001b[0m\u001b[0;34m(\u001b[0m\u001b[0mmatrix_seq\u001b[0m\u001b[0;34m,\u001b[0m \u001b[0mlocation_seq\u001b[0m\u001b[0;34m,\u001b[0m \u001b[0mnum_qubits\u001b[0m\u001b[0;34m=\u001b[0m\u001b[0;36m2\u001b[0m\u001b[0;34m)\u001b[0m\u001b[0;34m\u001b[0m\u001b[0;34m\u001b[0m\u001b[0m\n\u001b[1;32m      4\u001b[0m \u001b[0mnp\u001b[0m\u001b[0;34m.\u001b[0m\u001b[0mallclose\u001b[0m\u001b[0;34m(\u001b[0m\u001b[0mB\u001b[0m\u001b[0;34m,\u001b[0m \u001b[0mB_approx\u001b[0m\u001b[0;34m)\u001b[0m\u001b[0;34m\u001b[0m\u001b[0;34m\u001b[0m\u001b[0m\n",
      "\u001b[0;31mNameError\u001b[0m: name 'B' is not defined"
     ]
    }
   ],
   "source": [
    "# Test on B\n",
    "matrix_seq, location_seq = two_level_decomp(B)\n",
    "B_approx = recompose_matrix(matrix_seq, location_seq, num_qubits=2)\n",
    "np.allclose(B, B_approx)"
   ]
  },
  {
   "cell_type": "code",
   "execution_count": 212,
   "metadata": {},
   "outputs": [
    {
     "data": {
      "text/plain": [
       "True"
      ]
     },
     "execution_count": 212,
     "metadata": {},
     "output_type": "execute_result"
    }
   ],
   "source": [
    "# Test on C\n",
    "matrix_seq, location_seq = two_level_decomp(C)\n",
    "C_approx = recompose_matrix(matrix_seq, location_seq, num_qubits=num_qubits_C)\n",
    "np.allclose(C, C_approx)"
   ]
  },
  {
   "cell_type": "markdown",
   "metadata": {},
   "source": [
    "## Gray's Method"
   ]
  },
  {
   "cell_type": "code",
   "execution_count": 218,
   "metadata": {},
   "outputs": [
    {
     "data": {
      "text/plain": [
       "True"
      ]
     },
     "execution_count": 218,
     "metadata": {},
     "output_type": "execute_result"
    }
   ],
   "source": [
    "# Test on A\n",
    "matrix_seq, location_seq = gray_method(A)\n",
    "A_approx = recompose_matrix(matrix_seq, location_seq, num_qubits=2)\n",
    "np.allclose(A, A_approx)"
   ]
  },
  {
   "cell_type": "code",
   "execution_count": 220,
   "metadata": {},
   "outputs": [
    {
     "ename": "KeyboardInterrupt",
     "evalue": "",
     "output_type": "error",
     "traceback": [
      "\u001b[0;31m---------------------------------------------------------------------------\u001b[0m",
      "\u001b[0;31mKeyboardInterrupt\u001b[0m                         Traceback (most recent call last)",
      "\u001b[0;32m<ipython-input-220-eb9f39a2c4ac>\u001b[0m in \u001b[0;36m<module>\u001b[0;34m\u001b[0m\n\u001b[1;32m      1\u001b[0m \u001b[0;31m# Test on C\u001b[0m\u001b[0;34m\u001b[0m\u001b[0;34m\u001b[0m\u001b[0;34m\u001b[0m\u001b[0m\n\u001b[1;32m      2\u001b[0m \u001b[0mmatrix_seq\u001b[0m\u001b[0;34m,\u001b[0m \u001b[0mlocation_seq\u001b[0m \u001b[0;34m=\u001b[0m \u001b[0mgray_method\u001b[0m\u001b[0;34m(\u001b[0m\u001b[0mC\u001b[0m\u001b[0;34m)\u001b[0m\u001b[0;34m\u001b[0m\u001b[0;34m\u001b[0m\u001b[0m\n\u001b[0;32m----> 3\u001b[0;31m \u001b[0mC_approx\u001b[0m \u001b[0;34m=\u001b[0m \u001b[0mrecompose_matrix\u001b[0m\u001b[0;34m(\u001b[0m\u001b[0mmatrix_seq\u001b[0m\u001b[0;34m,\u001b[0m \u001b[0mlocation_seq\u001b[0m\u001b[0;34m,\u001b[0m \u001b[0mnum_qubits\u001b[0m\u001b[0;34m=\u001b[0m\u001b[0mnum_qubits_C\u001b[0m\u001b[0;34m)\u001b[0m\u001b[0;34m\u001b[0m\u001b[0;34m\u001b[0m\u001b[0m\n\u001b[0m\u001b[1;32m      4\u001b[0m \u001b[0mnp\u001b[0m\u001b[0;34m.\u001b[0m\u001b[0mallclose\u001b[0m\u001b[0;34m(\u001b[0m\u001b[0mC\u001b[0m\u001b[0;34m,\u001b[0m \u001b[0mC_approx\u001b[0m\u001b[0;34m)\u001b[0m\u001b[0;34m\u001b[0m\u001b[0;34m\u001b[0m\u001b[0m\n",
      "\u001b[0;32m<ipython-input-214-9b0c9ef93d64>\u001b[0m in \u001b[0;36mrecompose_matrix\u001b[0;34m(matrix_seq, location_seq, num_qubits)\u001b[0m\n\u001b[1;32m      3\u001b[0m     \u001b[0mU_list\u001b[0m \u001b[0;34m=\u001b[0m \u001b[0;34m[\u001b[0m\u001b[0;34m]\u001b[0m\u001b[0;34m\u001b[0m\u001b[0;34m\u001b[0m\u001b[0m\n\u001b[1;32m      4\u001b[0m     \u001b[0;32mfor\u001b[0m \u001b[0mM\u001b[0m\u001b[0;34m,\u001b[0m \u001b[0mloc\u001b[0m \u001b[0;32min\u001b[0m \u001b[0mzip\u001b[0m\u001b[0;34m(\u001b[0m\u001b[0mmatrix_seq\u001b[0m\u001b[0;34m,\u001b[0m \u001b[0mlocation_seq\u001b[0m\u001b[0;34m)\u001b[0m\u001b[0;34m:\u001b[0m\u001b[0;34m\u001b[0m\u001b[0;34m\u001b[0m\u001b[0m\n\u001b[0;32m----> 5\u001b[0;31m         \u001b[0mU\u001b[0m \u001b[0;34m=\u001b[0m \u001b[0mnp\u001b[0m\u001b[0;34m.\u001b[0m\u001b[0meye\u001b[0m\u001b[0;34m(\u001b[0m\u001b[0;36m2\u001b[0m\u001b[0;34m**\u001b[0m\u001b[0mnum_qubits\u001b[0m\u001b[0;34m,\u001b[0m \u001b[0mdtype\u001b[0m\u001b[0;34m=\u001b[0m\u001b[0mnp\u001b[0m\u001b[0;34m.\u001b[0m\u001b[0mcomplex128\u001b[0m\u001b[0;34m)\u001b[0m\u001b[0;34m\u001b[0m\u001b[0;34m\u001b[0m\u001b[0m\n\u001b[0m\u001b[1;32m      6\u001b[0m         \u001b[0;32mfor\u001b[0m \u001b[0mi\u001b[0m\u001b[0;34m,\u001b[0m\u001b[0mk\u001b[0m \u001b[0;32min\u001b[0m \u001b[0menumerate\u001b[0m\u001b[0;34m(\u001b[0m\u001b[0msorted\u001b[0m\u001b[0;34m(\u001b[0m\u001b[0mloc\u001b[0m\u001b[0;34m)\u001b[0m\u001b[0;34m)\u001b[0m\u001b[0;34m:\u001b[0m\u001b[0;34m\u001b[0m\u001b[0;34m\u001b[0m\u001b[0m\n\u001b[1;32m      7\u001b[0m             \u001b[0;32mfor\u001b[0m \u001b[0mj\u001b[0m\u001b[0;34m,\u001b[0m\u001b[0ml\u001b[0m \u001b[0;32min\u001b[0m \u001b[0menumerate\u001b[0m\u001b[0;34m(\u001b[0m\u001b[0msorted\u001b[0m\u001b[0;34m(\u001b[0m\u001b[0mloc\u001b[0m\u001b[0;34m)\u001b[0m\u001b[0;34m)\u001b[0m\u001b[0;34m:\u001b[0m\u001b[0;34m\u001b[0m\u001b[0;34m\u001b[0m\u001b[0m\n",
      "\u001b[0;32m~/Desktop/qchack/.env/lib/python3.7/site-packages/numpy/lib/twodim_base.py\u001b[0m in \u001b[0;36meye\u001b[0;34m(N, M, k, dtype, order, like)\u001b[0m\n\u001b[1;32m    214\u001b[0m     \u001b[0;32melse\u001b[0m\u001b[0;34m:\u001b[0m\u001b[0;34m\u001b[0m\u001b[0;34m\u001b[0m\u001b[0m\n\u001b[1;32m    215\u001b[0m         \u001b[0mi\u001b[0m \u001b[0;34m=\u001b[0m \u001b[0;34m(\u001b[0m\u001b[0;34m-\u001b[0m\u001b[0mk\u001b[0m\u001b[0;34m)\u001b[0m \u001b[0;34m*\u001b[0m \u001b[0mM\u001b[0m\u001b[0;34m\u001b[0m\u001b[0;34m\u001b[0m\u001b[0m\n\u001b[0;32m--> 216\u001b[0;31m     \u001b[0mm\u001b[0m\u001b[0;34m[\u001b[0m\u001b[0;34m:\u001b[0m\u001b[0mM\u001b[0m\u001b[0;34m-\u001b[0m\u001b[0mk\u001b[0m\u001b[0;34m]\u001b[0m\u001b[0;34m.\u001b[0m\u001b[0mflat\u001b[0m\u001b[0;34m[\u001b[0m\u001b[0mi\u001b[0m\u001b[0;34m:\u001b[0m\u001b[0;34m:\u001b[0m\u001b[0mM\u001b[0m\u001b[0;34m+\u001b[0m\u001b[0;36m1\u001b[0m\u001b[0;34m]\u001b[0m \u001b[0;34m=\u001b[0m \u001b[0;36m1\u001b[0m\u001b[0;34m\u001b[0m\u001b[0;34m\u001b[0m\u001b[0m\n\u001b[0m\u001b[1;32m    217\u001b[0m     \u001b[0;32mreturn\u001b[0m \u001b[0mm\u001b[0m\u001b[0;34m\u001b[0m\u001b[0;34m\u001b[0m\u001b[0m\n\u001b[1;32m    218\u001b[0m \u001b[0;34m\u001b[0m\u001b[0m\n",
      "\u001b[0;31mKeyboardInterrupt\u001b[0m: "
     ]
    }
   ],
   "source": [
    "# Test on B\n",
    "matrix_seq, location_seq = gray_method(B)\n",
    "B_approx = recompose_matrix(matrix_seq, location_seq, num_qubits=2)\n",
    "np.allclose(B, B_approx)\n",
    "\n",
    "# Test on C\n",
    "matrix_seq, location_seq = gray_method(C)\n",
    "C_approx = recompose_matrix(matrix_seq, location_seq, num_qubits=num_qubits_C)\n",
    "np.allclose(C, C_approx)"
   ]
  },
  {
   "cell_type": "code",
   "execution_count": 6,
   "metadata": {},
   "outputs": [
    {
     "data": {
      "text/plain": [
       "(-0.4999999999999998+0.8660254037844388j)"
      ]
     },
     "execution_count": 6,
     "metadata": {},
     "output_type": "execute_result"
    }
   ],
   "source": [
    "w"
   ]
  },
  {
   "cell_type": "code",
   "execution_count": 8,
   "metadata": {},
   "outputs": [],
   "source": [
    "c,d = two_level_decomp(A)"
   ]
  },
  {
   "cell_type": "code",
   "execution_count": 9,
   "metadata": {},
   "outputs": [
    {
     "data": {
      "text/plain": [
       "[array([[ 0.70710678-0.00000000e+00j,  0.70710678-8.65956056e-17j],\n",
       "        [-0.70710678-8.65956056e-17j,  0.70710678-0.00000000e+00j]]),\n",
       " array([[ 0.57735027-0.00000000e+00j,  0.81649658-9.99919924e-17j],\n",
       "        [-0.81649658-9.99919924e-17j,  0.57735027-0.00000000e+00j]]),\n",
       " array([[-7.07106781e-01+8.65956056e-17j, -5.14325540e-16-7.07106781e-01j],\n",
       "        [ 5.14325540e-16-7.07106781e-01j, -7.07106781e-01-8.65956056e-17j]]),\n",
       " array([[-6.98727119e-16-1.j,  0.00000000e+00+0.j],\n",
       "        [ 0.00000000e+00+0.j,  0.00000000e+00-1.j]])]"
      ]
     },
     "execution_count": 9,
     "metadata": {},
     "output_type": "execute_result"
    }
   ],
   "source": [
    "c"
   ]
  },
  {
   "cell_type": "code",
   "execution_count": 10,
   "metadata": {},
   "outputs": [
    {
     "data": {
      "text/plain": [
       "[array([1, 2]), array([0, 1]), array([1, 2]), array([2, 3])]"
      ]
     },
     "execution_count": 10,
     "metadata": {},
     "output_type": "execute_result"
    }
   ],
   "source": [
    "d"
   ]
  },
  {
   "cell_type": "code",
   "execution_count": 20,
   "metadata": {},
   "outputs": [],
   "source": [
    " tol = 1e-14\n",
    ">>> c[0].real[abs(c[0].real) < tol] = 0.0\n",
    ">>> c[0].imag[abs(c[0].imag) < tol] = 0.0"
   ]
  },
  {
   "cell_type": "code",
   "execution_count": 21,
   "metadata": {},
   "outputs": [
    {
     "data": {
      "text/plain": [
       "array([[ 0.70710678+0.j,  0.70710678+0.j],\n",
       "       [-0.70710678+0.j,  0.70710678+0.j]])"
      ]
     },
     "execution_count": 21,
     "metadata": {},
     "output_type": "execute_result"
    }
   ],
   "source": [
    "c[0]"
   ]
  },
  {
   "cell_type": "code",
   "execution_count": 23,
   "metadata": {},
   "outputs": [
    {
     "data": {
      "text/plain": [
       "4"
      ]
     },
     "execution_count": 23,
     "metadata": {},
     "output_type": "execute_result"
    }
   ],
   "source": [
    "len(c)"
   ]
  },
  {
   "cell_type": "code",
   "execution_count": 24,
   "metadata": {},
   "outputs": [
    {
     "data": {
      "text/plain": [
       "[array([[ 0.70710678+0.j,  0.70710678+0.j],\n",
       "        [-0.70710678+0.j,  0.70710678+0.j]]),\n",
       " array([[ 0.57735027-0.00000000e+00j,  0.81649658-9.99919924e-17j],\n",
       "        [-0.81649658-9.99919924e-17j,  0.57735027-0.00000000e+00j]]),\n",
       " array([[-7.07106781e-01+8.65956056e-17j, -5.14325540e-16-7.07106781e-01j],\n",
       "        [ 5.14325540e-16-7.07106781e-01j, -7.07106781e-01-8.65956056e-17j]]),\n",
       " array([[-6.98727119e-16-1.j,  0.00000000e+00+0.j],\n",
       "        [ 0.00000000e+00+0.j,  0.00000000e+00-1.j]])]"
      ]
     },
     "execution_count": 24,
     "metadata": {},
     "output_type": "execute_result"
    }
   ],
   "source": [
    "c"
   ]
  },
  {
   "cell_type": "code",
   "execution_count": null,
   "metadata": {},
   "outputs": [],
   "source": []
  }
 ],
 "metadata": {
  "kernelspec": {
   "display_name": "Python 3",
   "language": "python",
   "name": "python3"
  },
  "language_info": {
   "codemirror_mode": {
    "name": "ipython",
    "version": 3
   },
   "file_extension": ".py",
   "mimetype": "text/x-python",
   "name": "python",
   "nbconvert_exporter": "python",
   "pygments_lexer": "ipython3",
   "version": "3.8.5"
  }
 },
 "nbformat": 4,
 "nbformat_minor": 4
}
